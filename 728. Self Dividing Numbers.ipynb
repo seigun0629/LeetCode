{
 "cells": [
  {
   "cell_type": "code",
   "execution_count": null,
   "id": "367bb55c",
   "metadata": {},
   "outputs": [],
   "source": [
    "class Solution:\n",
    "    def selfDividingNumbers(self, left: int, right: int) -> List[int]:\n",
    "        w=[]\n",
    "        c=0\n",
    "        for i in range(left,right+1,1):\n",
    "            c=0\n",
    "            s=str(i)\n",
    "            for j in s:\n",
    "                j=int(j)\n",
    "                if j!=0 and i%j==0:\n",
    "                    c+=1\n",
    "            if c==len(s):\n",
    "                w.append(i)\n",
    "        return w\n",
    "          "
   ]
  }
 ],
 "metadata": {
  "kernelspec": {
   "display_name": "Python 3 (ipykernel)",
   "language": "python",
   "name": "python3"
  },
  "language_info": {
   "codemirror_mode": {
    "name": "ipython",
    "version": 3
   },
   "file_extension": ".py",
   "mimetype": "text/x-python",
   "name": "python",
   "nbconvert_exporter": "python",
   "pygments_lexer": "ipython3",
   "version": "3.10.9"
  }
 },
 "nbformat": 4,
 "nbformat_minor": 5
}
