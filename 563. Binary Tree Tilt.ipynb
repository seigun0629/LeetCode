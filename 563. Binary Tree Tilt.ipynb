{
 "cells": [
  {
   "cell_type": "code",
   "execution_count": null,
   "id": "1e906fb3",
   "metadata": {},
   "outputs": [],
   "source": [
    "class Solution:\n",
    "    def findTilt(self, root: Optional[TreeNode]) -> int:\n",
    "        self.total_tilt = 0\n",
    "        \n",
    "        def calculate_tilt(node):\n",
    "            if not node:\n",
    "                return 0\n",
    "            \n",
    "            left_sum = calculate_tilt(node.left)\n",
    "            right_sum = calculate_tilt(node.right)\n",
    "            tilt = abs(left_sum - right_sum)\n",
    "            \n",
    "            self.total_tilt += tilt\n",
    "            \n",
    "            return left_sum + right_sum + node.val\n",
    "        \n",
    "        calculate_tilt(root)\n",
    "        return self.total_tilt"
   ]
  }
 ],
 "metadata": {
  "kernelspec": {
   "display_name": "Python 3 (ipykernel)",
   "language": "python",
   "name": "python3"
  },
  "language_info": {
   "codemirror_mode": {
    "name": "ipython",
    "version": 3
   },
   "file_extension": ".py",
   "mimetype": "text/x-python",
   "name": "python",
   "nbconvert_exporter": "python",
   "pygments_lexer": "ipython3",
   "version": "3.10.9"
  }
 },
 "nbformat": 4,
 "nbformat_minor": 5
}
