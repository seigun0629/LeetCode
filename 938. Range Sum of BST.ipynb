{
 "cells": [
  {
   "cell_type": "code",
   "execution_count": null,
   "id": "2287bdbc",
   "metadata": {},
   "outputs": [],
   "source": [
    "class Solution:\n",
    "    def rangeSumBST(self, root: Optional[TreeNode], low: int, high: int) -> int:\n",
    "        if root is None:\n",
    "            return 0\n",
    "\n",
    "        if low <= root.val <= high:\n",
    "            return root.val + self.rangeSumBST(root.left, low, high) + self.rangeSumBST(root.right, low, high)\n",
    "        elif low <= root.val:\n",
    "            return self.rangeSumBST(root.left, low, high)\n",
    "        elif root.val <= high:\n",
    "            return self.rangeSumBST(root.right, low, high)"
   ]
  }
 ],
 "metadata": {
  "kernelspec": {
   "display_name": "Python 3 (ipykernel)",
   "language": "python",
   "name": "python3"
  },
  "language_info": {
   "codemirror_mode": {
    "name": "ipython",
    "version": 3
   },
   "file_extension": ".py",
   "mimetype": "text/x-python",
   "name": "python",
   "nbconvert_exporter": "python",
   "pygments_lexer": "ipython3",
   "version": "3.10.9"
  }
 },
 "nbformat": 4,
 "nbformat_minor": 5
}
