{
 "cells": [
  {
   "cell_type": "code",
   "execution_count": null,
   "id": "850591ef",
   "metadata": {},
   "outputs": [],
   "source": [
    "class Solution:\n",
    "    def shortestCompletingWord(self, licensePlate: str, words: List[str]) -> str:\n",
    "        hidden = []\n",
    "        def hidden_alphabets():\n",
    "            for i in range(len(licensePlate)):\n",
    "                if not licensePlate[i].isdigit():\n",
    "                    if licensePlate[i] != \" \":  \n",
    "                        hidden.append(licensePlate[i].lower())\n",
    "        hidden_alphabets()\n",
    "        index = -1\n",
    "        minimum = float(\"inf\")\n",
    "        flag = False\n",
    "        for i,word in enumerate(words):\n",
    "            flag = False\n",
    "            for one_hidden_alphabet in hidden:\n",
    "                if one_hidden_alphabet in word:\n",
    "                    word = word.replace(one_hidden_alphabet,'', 1)\n",
    "                else:\n",
    "                    flag = True\n",
    "                    break\n",
    "            if minimum > len(word) and not flag:\n",
    "                minimum = len(word)\n",
    "                index = i \n",
    "        return words[index]"
   ]
  }
 ],
 "metadata": {
  "kernelspec": {
   "display_name": "Python 3 (ipykernel)",
   "language": "python",
   "name": "python3"
  },
  "language_info": {
   "codemirror_mode": {
    "name": "ipython",
    "version": 3
   },
   "file_extension": ".py",
   "mimetype": "text/x-python",
   "name": "python",
   "nbconvert_exporter": "python",
   "pygments_lexer": "ipython3",
   "version": "3.10.9"
  }
 },
 "nbformat": 4,
 "nbformat_minor": 5
}
