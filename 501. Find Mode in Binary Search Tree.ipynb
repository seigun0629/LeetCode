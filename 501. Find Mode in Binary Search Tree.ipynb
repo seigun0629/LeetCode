{
 "cells": [
  {
   "cell_type": "code",
   "execution_count": null,
   "id": "102883a1",
   "metadata": {},
   "outputs": [],
   "source": [
    "# Definition for a binary tree node.\n",
    "# class TreeNode:\n",
    "#     def __init__(self, val=0, left=None, right=None):\n",
    "#         self.val = val\n",
    "#         self.left = left\n",
    "#         self.right = right\n",
    "class Solution:\n",
    "    def findMode(self, root: Optional[TreeNode]) -> List[int]:\n",
    "        res = []\n",
    "        res_count = 0 \n",
    "        curr = None\n",
    "        curr_count = 0\n",
    "        def traverse(node):\n",
    "            if not node:\n",
    "                return\n",
    "            traverse(node.left)\n",
    "            nonlocal res, res_count, curr, curr_count\n",
    "            if node.val == curr:\n",
    "                curr_count += 1\n",
    "            else:\n",
    "                curr = node.val\n",
    "                curr_count = 1\n",
    "            if curr_count > res_count:\n",
    "                res = [curr]\n",
    "                res_count = curr_count\n",
    "            elif curr_count == res_count:\n",
    "                res.append(node.val)\n",
    "            traverse(node.right)\n",
    "        traverse(root)\n",
    "        return res"
   ]
  }
 ],
 "metadata": {
  "kernelspec": {
   "display_name": "Python 3 (ipykernel)",
   "language": "python",
   "name": "python3"
  },
  "language_info": {
   "codemirror_mode": {
    "name": "ipython",
    "version": 3
   },
   "file_extension": ".py",
   "mimetype": "text/x-python",
   "name": "python",
   "nbconvert_exporter": "python",
   "pygments_lexer": "ipython3",
   "version": "3.10.9"
  }
 },
 "nbformat": 4,
 "nbformat_minor": 5
}
