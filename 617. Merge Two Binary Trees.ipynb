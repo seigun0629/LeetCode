{
 "cells": [
  {
   "cell_type": "code",
   "execution_count": null,
   "id": "408082f4",
   "metadata": {},
   "outputs": [],
   "source": [
    "\n",
    "class Solution:\n",
    "    def mergeTrees(self, root1: Optional[TreeNode], root2: Optional[TreeNode]) -> Optional[TreeNode]:\n",
    "\n",
    "        stack1 = [root1]\n",
    "        stack2 = [root2]\n",
    "        if not root1:\n",
    "            return root2\n",
    "\n",
    "        while stack1:\n",
    "            n1 = stack1.pop()\n",
    "            n2 = stack2.pop()\n",
    "\n",
    "            if n1 and n2:\n",
    "                n1.val += n2.val\n",
    "\n",
    "                if n2.left and not n1.left:\n",
    "                    n1.left = TreeNode()\n",
    "                if n2.right and not n1.right:\n",
    "                    n1.right = TreeNode()\n",
    "\n",
    "                stack1.append(n1.left)\n",
    "                stack1.append(n1.right)\n",
    "                stack2.append(n2.left)\n",
    "                stack2.append(n2.right)\n",
    "\n",
    "        return root1\n",
    "\n",
    "\n",
    "        "
   ]
  }
 ],
 "metadata": {
  "kernelspec": {
   "display_name": "Python 3 (ipykernel)",
   "language": "python",
   "name": "python3"
  },
  "language_info": {
   "codemirror_mode": {
    "name": "ipython",
    "version": 3
   },
   "file_extension": ".py",
   "mimetype": "text/x-python",
   "name": "python",
   "nbconvert_exporter": "python",
   "pygments_lexer": "ipython3",
   "version": "3.10.9"
  }
 },
 "nbformat": 4,
 "nbformat_minor": 5
}
