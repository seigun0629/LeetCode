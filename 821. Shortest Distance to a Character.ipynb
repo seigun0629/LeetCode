{
 "cells": [
  {
   "cell_type": "code",
   "execution_count": null,
   "id": "41b3fa6d",
   "metadata": {},
   "outputs": [],
   "source": [
    "class Solution:\n",
    "    def getIndicies(self, s, c):\n",
    "        indicies = []\n",
    "        for i in range(len(s)):\n",
    "            if s[i] == c:\n",
    "                indicies.append(i)\n",
    "        return indicies\n",
    "    def getShortest(self, idx, indicies):\n",
    "        if idx in indicies: return 0\n",
    "        if idx < indicies[0]: return abs(idx - indicies[0])\n",
    "        elif idx > indicies[-1]: return abs(indicies[-1] - idx)\n",
    "        for index in range(len(indicies)):\n",
    "            if indicies[index] > idx:\n",
    "                minDistance = min(abs(idx - indicies[index]), abs(idx - indicies[index - 1]))\n",
    "                return minDistance\n",
    "    def shortestToChar(self, s: str, c: str) -> List[int]:\n",
    "        indicies = sorted(self.getIndicies(s, c), key=lambda x:x)\n",
    "        result = []\n",
    "        for i in range(len(s)):\n",
    "            result.append(self.getShortest(i, indicies))\n",
    "        return result"
   ]
  }
 ],
 "metadata": {
  "kernelspec": {
   "display_name": "Python 3 (ipykernel)",
   "language": "python",
   "name": "python3"
  },
  "language_info": {
   "codemirror_mode": {
    "name": "ipython",
    "version": 3
   },
   "file_extension": ".py",
   "mimetype": "text/x-python",
   "name": "python",
   "nbconvert_exporter": "python",
   "pygments_lexer": "ipython3",
   "version": "3.10.9"
  }
 },
 "nbformat": 4,
 "nbformat_minor": 5
}
