{
 "cells": [
  {
   "cell_type": "code",
   "execution_count": null,
   "id": "34909c1f",
   "metadata": {},
   "outputs": [],
   "source": [
    "class Solution:\n",
    "    def getSplit(self, s):\n",
    "        result = []\n",
    "        strS = ''\n",
    "        for i in s.lower():\n",
    "            if i not in \"!?',;. \": strS += i\n",
    "            else:\n",
    "                if len(strS) > 0: result.append(strS)\n",
    "                strS = ''\n",
    "        if len(strS) > 0: result.append(strS)\n",
    "        return result\n",
    "\n",
    "    def mostCommonWord(self, paragraph: str, banned: List[str]) -> str:\n",
    "        paragraph = self.getSplit(paragraph)\n",
    "        freq = {}\n",
    "        for s in paragraph:\n",
    "            if s not in banned:\n",
    "                if s in freq: freq[s] += 1\n",
    "                else: freq[s] = 1\n",
    "                \n",
    "        m = max(freq.values())\n",
    "        for k in freq:\n",
    "            if freq[k] == m: return k"
   ]
  }
 ],
 "metadata": {
  "kernelspec": {
   "display_name": "Python 3 (ipykernel)",
   "language": "python",
   "name": "python3"
  },
  "language_info": {
   "codemirror_mode": {
    "name": "ipython",
    "version": 3
   },
   "file_extension": ".py",
   "mimetype": "text/x-python",
   "name": "python",
   "nbconvert_exporter": "python",
   "pygments_lexer": "ipython3",
   "version": "3.10.9"
  }
 },
 "nbformat": 4,
 "nbformat_minor": 5
}
