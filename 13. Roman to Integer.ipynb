{
 "cells": [
  {
   "cell_type": "code",
   "execution_count": null,
   "id": "67f157f8",
   "metadata": {},
   "outputs": [],
   "source": [
    "class Solution:\n",
    "    def romanToInt(self, s: str) -> int:\n",
    "        rom={\"I\":1,\"V\":5,\"X\":10,\"L\":50,\"C\":100,\"D\":500,\"M\":1000}\n",
    "        numb=0\n",
    "        for i in range(len(s)-1):\n",
    "            if rom[s[i]] < rom[s[(i+1)]]:\n",
    "                numb-=rom[s[i]]\n",
    "            else:\n",
    "                numb+=rom[s[i]]\n",
    "        return numb+rom[s[-1]]"
   ]
  }
 ],
 "metadata": {
  "kernelspec": {
   "display_name": "Python 3 (ipykernel)",
   "language": "python",
   "name": "python3"
  },
  "language_info": {
   "codemirror_mode": {
    "name": "ipython",
    "version": 3
   },
   "file_extension": ".py",
   "mimetype": "text/x-python",
   "name": "python",
   "nbconvert_exporter": "python",
   "pygments_lexer": "ipython3",
   "version": "3.10.9"
  }
 },
 "nbformat": 4,
 "nbformat_minor": 5
}
