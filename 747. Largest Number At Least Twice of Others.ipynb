{
 "cells": [
  {
   "cell_type": "code",
   "execution_count": null,
   "id": "45533324",
   "metadata": {},
   "outputs": [],
   "source": [
    "class Solution:\n",
    "    def dominantIndex(self, nums: List[int]) -> int:\n",
    "        bigNum = max(nums)  # Find the largest number in the array.\n",
    "\n",
    "        for num in nums:\n",
    "            if num == bigNum:\n",
    "                continue  # Skip the comparison if the current number is the largest one.\n",
    "            elif bigNum - (num*2) < 0:\n",
    "                return -1  # If the largest number is less than double any other number, return -1.\n",
    "        \n",
    "        return nums.index(bigNum)  # If no such number is found, return the index of the largest number."
   ]
  }
 ],
 "metadata": {
  "kernelspec": {
   "display_name": "Python 3 (ipykernel)",
   "language": "python",
   "name": "python3"
  },
  "language_info": {
   "codemirror_mode": {
    "name": "ipython",
    "version": 3
   },
   "file_extension": ".py",
   "mimetype": "text/x-python",
   "name": "python",
   "nbconvert_exporter": "python",
   "pygments_lexer": "ipython3",
   "version": "3.10.9"
  }
 },
 "nbformat": 4,
 "nbformat_minor": 5
}
