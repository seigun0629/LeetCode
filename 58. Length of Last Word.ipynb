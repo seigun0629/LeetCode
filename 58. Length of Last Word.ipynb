{
 "cells": [
  {
   "cell_type": "code",
   "execution_count": null,
   "id": "53b006b9",
   "metadata": {},
   "outputs": [],
   "source": [
    "#58. Length of Last Word\n",
    "class Solution:\n",
    "    def lengthOfLastWord(self, s: str) -> int:\n",
    "        # Step 1: Trim the string to remove leading/trailing spaces\n",
    "        s = s.strip()\n",
    "        \n",
    "        # Step 2: Split the string into words\n",
    "        words = s.split()\n",
    "        \n",
    "        # Step 3: Return the length of the last word\n",
    "        return len(words[-1])"
   ]
  }
 ],
 "metadata": {
  "kernelspec": {
   "display_name": "Python 3 (ipykernel)",
   "language": "python",
   "name": "python3"
  },
  "language_info": {
   "codemirror_mode": {
    "name": "ipython",
    "version": 3
   },
   "file_extension": ".py",
   "mimetype": "text/x-python",
   "name": "python",
   "nbconvert_exporter": "python",
   "pygments_lexer": "ipython3",
   "version": "3.10.9"
  }
 },
 "nbformat": 4,
 "nbformat_minor": 5
}
