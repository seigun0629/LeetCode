{
 "cells": [
  {
   "cell_type": "code",
   "execution_count": null,
   "id": "2f9f041e",
   "metadata": {},
   "outputs": [],
   "source": [
    "class Solution:\n",
    "    def summaryRanges(self, nums: List[int]) -> List[str]:\n",
    "        if len(nums)==0:return []\n",
    "        nums.append(nums[-1]+1)\n",
    "        k=[]\n",
    "        i=0\n",
    "        while i<len(nums)-1:\n",
    "            j=i\n",
    "            rr=[]\n",
    "            while j<len(nums)-1:\n",
    "                if nums[j]+1 in nums:\n",
    "                    rr.append(nums[j])\n",
    "                    j+=1\n",
    "                else:\n",
    "                    rr.append(nums[j])\n",
    "                    j+=1\n",
    "                    break\n",
    "            if len(rr)!=1:\n",
    "                k.append(str(rr[0])+\"->\"+str(rr[-1]))\n",
    "            else:\n",
    "                k.append(str(rr[0]))\n",
    "            i=j\n",
    "        return k"
   ]
  }
 ],
 "metadata": {
  "kernelspec": {
   "display_name": "Python 3 (ipykernel)",
   "language": "python",
   "name": "python3"
  },
  "language_info": {
   "codemirror_mode": {
    "name": "ipython",
    "version": 3
   },
   "file_extension": ".py",
   "mimetype": "text/x-python",
   "name": "python",
   "nbconvert_exporter": "python",
   "pygments_lexer": "ipython3",
   "version": "3.10.9"
  }
 },
 "nbformat": 4,
 "nbformat_minor": 5
}
