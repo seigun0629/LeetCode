{
 "cells": [
  {
   "cell_type": "code",
   "execution_count": null,
   "id": "84f53ca2",
   "metadata": {},
   "outputs": [],
   "source": [
    "class MyHashSet:\n",
    "    def __init__(self):\n",
    "        self.size = 1000\n",
    "        self.buckets = [[] for _ in range(self.size)]\n",
    "\n",
    "    def add(self, key: int) -> None:\n",
    "        index = self._hash(key)\n",
    "        if key not in self.buckets[index]:\n",
    "            self.buckets[index].append(key)\n",
    "\n",
    "    def remove(self, key: int) -> None:\n",
    "        index = self._hash(key)\n",
    "        if key in self.buckets[index]:\n",
    "            self.buckets[index].remove(key)\n",
    "\n",
    "    def contains(self, key: int) -> bool:\n",
    "        index = self._hash(key)\n",
    "        return key in self.buckets[index]\n",
    "\n",
    "    def _hash(self, key: int) -> int:\n",
    "        return key % self.size"
   ]
  }
 ],
 "metadata": {
  "kernelspec": {
   "display_name": "Python 3 (ipykernel)",
   "language": "python",
   "name": "python3"
  },
  "language_info": {
   "codemirror_mode": {
    "name": "ipython",
    "version": 3
   },
   "file_extension": ".py",
   "mimetype": "text/x-python",
   "name": "python",
   "nbconvert_exporter": "python",
   "pygments_lexer": "ipython3",
   "version": "3.10.9"
  }
 },
 "nbformat": 4,
 "nbformat_minor": 5
}
