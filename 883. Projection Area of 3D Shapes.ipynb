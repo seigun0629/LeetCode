{
 "cells": [
  {
   "cell_type": "code",
   "execution_count": null,
   "id": "a1c80fb9",
   "metadata": {},
   "outputs": [],
   "source": [
    "class Solution:\n",
    "    def projectionArea(self, grid: List[List[int]]) -> int:\n",
    "        ans, n = 0, len(grid)\n",
    "        for i in range(n):\n",
    "            maxFront = maxSide = 0\n",
    "            for j in range(n):\n",
    "                if grid[i][j]: ans += 1\n",
    "                maxSide = max(maxSide, grid[i][j])\n",
    "                maxFront = max(maxFront, grid[j][i])\n",
    "            ans += maxSide + maxFront\n",
    "        return ans"
   ]
  }
 ],
 "metadata": {
  "kernelspec": {
   "display_name": "Python 3 (ipykernel)",
   "language": "python",
   "name": "python3"
  },
  "language_info": {
   "codemirror_mode": {
    "name": "ipython",
    "version": 3
   },
   "file_extension": ".py",
   "mimetype": "text/x-python",
   "name": "python",
   "nbconvert_exporter": "python",
   "pygments_lexer": "ipython3",
   "version": "3.10.9"
  }
 },
 "nbformat": 4,
 "nbformat_minor": 5
}
