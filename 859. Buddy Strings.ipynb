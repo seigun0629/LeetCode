{
 "cells": [
  {
   "cell_type": "code",
   "execution_count": null,
   "id": "ffffb178",
   "metadata": {},
   "outputs": [],
   "source": [
    "class Solution:\n",
    "    def buddyStrings(self, s: str, goal: str) -> bool:\n",
    "        if len(s) != len(goal):\n",
    "            return False\n",
    "        if s == goal :\n",
    "            frequency = [0]*26\n",
    "            for ch in s:\n",
    "                frequency[ord(ch)-ord('a')] += 1\n",
    "                if frequency[ord(ch)-ord('a')] == 2:\n",
    "                    return True\n",
    "            return False\n",
    "        first_index = -1\n",
    "        second_index = -1\n",
    "        for i in range(len(s)):\n",
    "            if s[i] != goal[i]:\n",
    "                if first_index == -1:\n",
    "                    first_index = i\n",
    "                elif second_index == -1:\n",
    "                    second_index = i\n",
    "                else:\n",
    "                    return False\n",
    "        if second_index == -1:\n",
    "            return False\n",
    "        return s[first_index]==goal[second_index] and s[second_index] == goal[first_index]"
   ]
  }
 ],
 "metadata": {
  "kernelspec": {
   "display_name": "Python 3 (ipykernel)",
   "language": "python",
   "name": "python3"
  }
 },
 "nbformat": 4,
 "nbformat_minor": 5
}
