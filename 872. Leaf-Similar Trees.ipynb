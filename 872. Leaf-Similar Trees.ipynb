{
 "cells": [
  {
   "cell_type": "code",
   "execution_count": null,
   "id": "8577a4b3",
   "metadata": {},
   "outputs": [],
   "source": [
    "# Definition for a binary tree node.\n",
    "# class TreeNode:\n",
    "#     def __init__(self, val=0, left=None, right=None):\n",
    "#         self.val = val\n",
    "#         self.left = left\n",
    "#         self.right = right\n",
    "class Solution:\n",
    "    def leafSimilar(self, root1: Optional[TreeNode], root2: Optional[TreeNode]) -> bool:\n",
    "        my_list1 = []\n",
    "        my_list2 = []\n",
    "        self.checkNode(my_list1, root1)\n",
    "        self.checkNode(my_list2, root2)\n",
    "        return (my_list1 == my_list2)\n",
    "\n",
    "    def checkNode(self, my_list, node: Optional[TreeNode]) -> list: \n",
    "        if node.left == None and node.right == None and node.val != None: \n",
    "            my_list.append(node.val)\n",
    "        elif node.left != None and node.right == None:\n",
    "            self.checkNode(my_list, node.left)\n",
    "        elif node.left == None and node.right != None:\n",
    "            self.checkNode(my_list, node.right)\n",
    "        else: \n",
    "            self.checkNode(my_list, node.left)\n",
    "            self.checkNode(my_list, node.right)\n",
    "\n",
    "        return my_list        "
   ]
  }
 ],
 "metadata": {
  "kernelspec": {
   "display_name": "Python 3 (ipykernel)",
   "language": "python",
   "name": "python3"
  },
  "language_info": {
   "codemirror_mode": {
    "name": "ipython",
    "version": 3
   },
   "file_extension": ".py",
   "mimetype": "text/x-python",
   "name": "python",
   "nbconvert_exporter": "python",
   "pygments_lexer": "ipython3",
   "version": "3.10.9"
  }
 },
 "nbformat": 4,
 "nbformat_minor": 5
}
