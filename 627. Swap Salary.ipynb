{
 "cells": [
  {
   "cell_type": "code",
   "execution_count": null,
   "id": "d7132acf",
   "metadata": {},
   "outputs": [],
   "source": [
    "import pandas as pd\n",
    "\n",
    "def swap_salary(salary: pd.DataFrame) -> pd.DataFrame:\n",
    "    salary['sex'] = salary['sex'].apply(lambda x: x.replace('m', 'f') if x == 'm' else x.replace('f', 'm'))\n",
    "    return salary"
   ]
  }
 ],
 "metadata": {
  "kernelspec": {
   "display_name": "Python 3 (ipykernel)",
   "language": "python",
   "name": "python3"
  },
  "language_info": {
   "codemirror_mode": {
    "name": "ipython",
    "version": 3
   },
   "file_extension": ".py",
   "mimetype": "text/x-python",
   "name": "python",
   "nbconvert_exporter": "python",
   "pygments_lexer": "ipython3",
   "version": "3.10.9"
  }
 },
 "nbformat": 4,
 "nbformat_minor": 5
}
