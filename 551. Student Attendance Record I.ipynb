{
 "cells": [
  {
   "cell_type": "code",
   "execution_count": null,
   "id": "32a3a74d",
   "metadata": {},
   "outputs": [],
   "source": [
    "class Solution:\n",
    "    def checkRecord(self, s: str) -> bool:\n",
    "        if s.count(\"A\") >= 2 :\n",
    "            return False\n",
    "        l = len(s)\n",
    "        if l <= 2 :\n",
    "            return True\n",
    "        for i in range(l - 2) :\n",
    "            if s[i] == s[i+1] == s[i+2] == \"L\" :\n",
    "                return False\n",
    "        return True"
   ]
  }
 ],
 "metadata": {
  "kernelspec": {
   "display_name": "Python 3 (ipykernel)",
   "language": "python",
   "name": "python3"
  },
  "language_info": {
   "codemirror_mode": {
    "name": "ipython",
    "version": 3
   },
   "file_extension": ".py",
   "mimetype": "text/x-python",
   "name": "python",
   "nbconvert_exporter": "python",
   "pygments_lexer": "ipython3",
   "version": "3.10.9"
  }
 },
 "nbformat": 4,
 "nbformat_minor": 5
}
