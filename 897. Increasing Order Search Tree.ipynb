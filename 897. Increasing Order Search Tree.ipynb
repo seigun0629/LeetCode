{
 "cells": [
  {
   "cell_type": "code",
   "execution_count": null,
   "id": "51ffd547",
   "metadata": {},
   "outputs": [],
   "source": [
    "# Definition for a binary tree node.\n",
    "# class TreeNode:\n",
    "#     def __init__(self, val=0, left=None, right=None):\n",
    "#         self.val = val\n",
    "#         self.left = left\n",
    "#         self.right = right\n",
    "class Solution:\n",
    "    def increasingBST(self, root: TreeNode) -> TreeNode:\n",
    "        \n",
    "        if not root:\n",
    "            return None\n",
    "\n",
    "        def create_list(root,list1):\n",
    "            \n",
    "            if not root:\n",
    "                return None\n",
    "                \n",
    "            create_list(root.left,list1)\n",
    "            list1.append(root.val)\n",
    "            create_list(root.right,list1)\n",
    "\n",
    "        list1=[]\n",
    "        create_list(root,list1)\n",
    "\n",
    "        def inorder(list1):\n",
    "            list1.reverse()\n",
    "            prev=None\n",
    "            for i in list1:\n",
    "                new=TreeNode(i)\n",
    "                new.right=prev\n",
    "                prev=new\n",
    "            return new\n",
    "        return inorder(list1)"
   ]
  }
 ],
 "metadata": {
  "kernelspec": {
   "display_name": "Python 3 (ipykernel)",
   "language": "python",
   "name": "python3"
  },
  "language_info": {
   "codemirror_mode": {
    "name": "ipython",
    "version": 3
   },
   "file_extension": ".py",
   "mimetype": "text/x-python",
   "name": "python",
   "nbconvert_exporter": "python",
   "pygments_lexer": "ipython3",
   "version": "3.10.9"
  }
 },
 "nbformat": 4,
 "nbformat_minor": 5
}
