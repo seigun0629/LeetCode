{
 "cells": [
  {
   "cell_type": "code",
   "execution_count": null,
   "id": "d98b77a3",
   "metadata": {},
   "outputs": [],
   "source": [
    "class MyQueue:\n",
    "    def __init__(self):\n",
    "        \n",
    "        self.inputStack = []  \n",
    "        self.outputStack = []  \n",
    "        print(f\"Initialized an empty queue\")\n",
    "\n",
    "    def push(self, value: int) -> None:\n",
    "       \n",
    "        self.inputStack.append(value)\n",
    "        print(f\"Pushed {value} to the queue. Input stack: {self.inputStack}, Output stack: {self.outputStack}\")\n",
    "\n",
    "    def pop(self) -> int:\n",
    "       \n",
    "        if not self.outputStack:\n",
    "            while self.inputStack:\n",
    "                self.outputStack.append(self.inputStack.pop())\n",
    "        \n",
    "        popped_value = self.outputStack.pop()\n",
    "        print(f\"Popped {popped_value} from the queue. Input stack: {self.inputStack}, Output stack: {self.outputStack}\")\n",
    "        return popped_value\n",
    "\n",
    "    def peek(self) -> int:\n",
    "        \n",
    "        if not self.outputStack:\n",
    "            while self.inputStack:\n",
    "                self.outputStack.append(self.inputStack.pop())\n",
    "     \n",
    "        peeked_value = self.outputStack[-1]\n",
    "        print(f\"Peeked {peeked_value} from the queue. Input stack: {self.inputStack}, Output stack: {self.outputStack}\")\n",
    "        return peeked_value\n",
    "\n",
    "    def empty(self) -> bool:\n",
    "\n",
    "        is_empty = not self.inputStack and not self.outputStack\n",
    "        print(f\"Checked if the queue is empty. Result: {is_empty}. Input stack: {self.inputStack}, Output stack: {self.outputStack}\")\n",
    "        return is_empty"
   ]
  }
 ],
 "metadata": {
  "kernelspec": {
   "display_name": "Python 3 (ipykernel)",
   "language": "python",
   "name": "python3"
  },
  "language_info": {
   "codemirror_mode": {
    "name": "ipython",
    "version": 3
   },
   "file_extension": ".py",
   "mimetype": "text/x-python",
   "name": "python",
   "nbconvert_exporter": "python",
   "pygments_lexer": "ipython3",
   "version": "3.10.9"
  }
 },
 "nbformat": 4,
 "nbformat_minor": 5
}
