{
 "cells": [
  {
   "cell_type": "code",
   "execution_count": null,
   "id": "20467e59",
   "metadata": {},
   "outputs": [],
   "source": [
    "class Solution:\n",
    "    def matrixReshape(self, mat: List[List[int]], r: int, c: int) -> List[List[int]]:\n",
    "        temp=[]\n",
    "        result=[]\n",
    "        for i in mat:\n",
    "            for j in i:\n",
    "                temp.append(j)\n",
    "        if r*c!=len(temp):\n",
    "            return mat\n",
    "        else:\n",
    "            for i in range(r):\n",
    "                result.append(temp[i*c:i*c+c])\n",
    "        return result"
   ]
  }
 ],
 "metadata": {
  "kernelspec": {
   "display_name": "Python 3 (ipykernel)",
   "language": "python",
   "name": "python3"
  },
  "language_info": {
   "codemirror_mode": {
    "name": "ipython",
    "version": 3
   },
   "file_extension": ".py",
   "mimetype": "text/x-python",
   "name": "python",
   "nbconvert_exporter": "python",
   "pygments_lexer": "ipython3",
   "version": "3.10.9"
  }
 },
 "nbformat": 4,
 "nbformat_minor": 5
}
