{
 "cells": [
  {
   "cell_type": "code",
   "execution_count": null,
   "id": "887a93d9",
   "metadata": {},
   "outputs": [],
   "source": [
    "class Solution:\n",
    "    # Time : O(n) | Space : O(n)\n",
    "    def licenseKeyFormatting(self, s: str, k: int) -> str:\n",
    "        result = []\n",
    "        count = 0\n",
    "        s = s.replace(\"-\", \"\")\n",
    "        for i in reversed(range(len(s))):\n",
    "            result.append(s[i].upper())\n",
    "            count += 1\n",
    "            # we don't want to put a dash in the first position of the array, so i != 0\n",
    "            if count == k and i != 0:\n",
    "                result.append(\"-\")\n",
    "                count = 0\n",
    "        return ''.join(result[::-1]) # doing a reverse "
   ]
  }
 ],
 "metadata": {
  "kernelspec": {
   "display_name": "Python 3 (ipykernel)",
   "language": "python",
   "name": "python3"
  },
  "language_info": {
   "codemirror_mode": {
    "name": "ipython",
    "version": 3
   },
   "file_extension": ".py",
   "mimetype": "text/x-python",
   "name": "python",
   "nbconvert_exporter": "python",
   "pygments_lexer": "ipython3",
   "version": "3.10.9"
  }
 },
 "nbformat": 4,
 "nbformat_minor": 5
}
