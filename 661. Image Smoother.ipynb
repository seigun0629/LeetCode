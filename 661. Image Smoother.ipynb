{
 "cells": [
  {
   "cell_type": "code",
   "execution_count": null,
   "id": "2c8f1a06",
   "metadata": {},
   "outputs": [],
   "source": [
    "class Solution:\n",
    "    def imageSmoother(self, img: List[List[int]]) -> List[List[int]]:\n",
    "        ans=[]\n",
    "        n=len(img)\n",
    "        m=len(img[0])\n",
    "        for r,row in enumerate(img):\n",
    "            ans.append([])\n",
    "            for c,col in enumerate(row):\n",
    "                s=0\n",
    "                count=0\n",
    "                for dx in range(-1,2):\n",
    "                    for dy in range(-1,2):\n",
    "                        if 0<=r+dx<n and 0<=c+dy<m:\n",
    "                            s+=img[r+dx][c+dy]\n",
    "                            count+=1\n",
    "                ans[-1].append(s//count)\n",
    "        return ans                     "
   ]
  }
 ],
 "metadata": {
  "kernelspec": {
   "display_name": "Python 3 (ipykernel)",
   "language": "python",
   "name": "python3"
  },
  "language_info": {
   "codemirror_mode": {
    "name": "ipython",
    "version": 3
   },
   "file_extension": ".py",
   "mimetype": "text/x-python",
   "name": "python",
   "nbconvert_exporter": "python",
   "pygments_lexer": "ipython3",
   "version": "3.10.9"
  }
 },
 "nbformat": 4,
 "nbformat_minor": 5
}
