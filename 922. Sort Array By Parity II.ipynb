{
 "cells": [
  {
   "cell_type": "code",
   "execution_count": null,
   "id": "81d08c20",
   "metadata": {},
   "outputs": [],
   "source": [
    "class Solution:\n",
    "    def sortArrayByParityII(self, nums: List[int]) -> List[int]:\n",
    "        n = len(nums)\n",
    "        for i in range(n-1):\n",
    "            swapped= False\n",
    "            for j in range(n-i-1):\n",
    "                if nums[j]%2==0 and j%2!=0  :\n",
    "                    for k in range(j+1,n):\n",
    "                        if k%2==0 and nums[k]%2!=0:\n",
    "                            x = nums[j]\n",
    "                            nums[j]= nums[k]\n",
    "                            nums[k]= x\n",
    "                            swapped= True\n",
    "                            break;\n",
    "                elif nums[j]%2!=0 and j%2==0  :\n",
    "                    for k in range(j+1,n):\n",
    "                        if k%2!=0 and nums[k]%2==0:\n",
    "                            x = nums[j]\n",
    "                            nums[j]= nums[k]\n",
    "                            nums[k]= x\n",
    "                            swapped= True\n",
    "                            break; \n",
    "            if not swapped :\n",
    "                return nums\n",
    "        return nums"
   ]
  }
 ],
 "metadata": {
  "kernelspec": {
   "display_name": "Python 3 (ipykernel)",
   "language": "python",
   "name": "python3"
  },
  "language_info": {
   "codemirror_mode": {
    "name": "ipython",
    "version": 3
   },
   "file_extension": ".py",
   "mimetype": "text/x-python",
   "name": "python",
   "nbconvert_exporter": "python",
   "pygments_lexer": "ipython3",
   "version": "3.10.9"
  }
 },
 "nbformat": 4,
 "nbformat_minor": 5
}
