{
 "cells": [
  {
   "cell_type": "code",
   "execution_count": null,
   "id": "e0b4c094",
   "metadata": {},
   "outputs": [],
   "source": [
    "class Solution:\n",
    "    def findMaxAverage(self, nums: List[int], k: int) -> float:\n",
    "        max_sum = cur = sum(nums[:k])\n",
    "        for i in range(len(nums) - k):\n",
    "            cur = cur - nums[i] + nums[i + k]\n",
    "            if cur > max_sum:\n",
    "                max_sum = cur\n",
    "        return max_sum / k"
   ]
  }
 ],
 "metadata": {
  "kernelspec": {
   "display_name": "Python 3 (ipykernel)",
   "language": "python",
   "name": "python3"
  },
  "language_info": {
   "codemirror_mode": {
    "name": "ipython",
    "version": 3
   },
   "file_extension": ".py",
   "mimetype": "text/x-python",
   "name": "python",
   "nbconvert_exporter": "python",
   "pygments_lexer": "ipython3",
   "version": "3.10.9"
  }
 },
 "nbformat": 4,
 "nbformat_minor": 5
}
