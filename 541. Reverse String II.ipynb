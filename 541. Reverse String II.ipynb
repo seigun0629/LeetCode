{
 "cells": [
  {
   "cell_type": "code",
   "execution_count": null,
   "id": "cfbffc25",
   "metadata": {},
   "outputs": [],
   "source": [
    "class Solution:\n",
    "    def reverseStr(self, s: str, k: int) -> str:\n",
    "        ans = \"\"\n",
    "        def helper(org=s):\n",
    "            nonlocal ans\n",
    "            n = 2*k\n",
    "            if len(org)<k:\n",
    "                ans += org[::-1]\n",
    "                return\n",
    "            else:\n",
    "                while len(org) > k:\n",
    "                    t = org[0:n]\n",
    "                    org = org[n:]\n",
    "                    x = t[0:k]\n",
    "                    t = t[k:]\n",
    "                    ans += x[::-1] + t\n",
    "                if len(org) <=k:\n",
    "                    ans += org[::-1]\n",
    "            return\n",
    "        helper()\n",
    "        return ans"
   ]
  }
 ],
 "metadata": {
  "kernelspec": {
   "display_name": "Python 3 (ipykernel)",
   "language": "python",
   "name": "python3"
  },
  "language_info": {
   "codemirror_mode": {
    "name": "ipython",
    "version": 3
   },
   "file_extension": ".py",
   "mimetype": "text/x-python",
   "name": "python",
   "nbconvert_exporter": "python",
   "pygments_lexer": "ipython3",
   "version": "3.10.9"
  }
 },
 "nbformat": 4,
 "nbformat_minor": 5
}
