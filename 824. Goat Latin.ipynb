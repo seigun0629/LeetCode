{
 "cells": [
  {
   "cell_type": "code",
   "execution_count": null,
   "id": "34d28d34",
   "metadata": {},
   "outputs": [],
   "source": [
    "class Solution:\n",
    "    def toGoatLatin(self, sentence: str) -> str:\n",
    "        w = sentence.split()\n",
    "        l=[]\n",
    "        v=[]\n",
    "        for i in w:\n",
    "            a = 1*i \n",
    "            if(i[0]=='a'or i[0]=='e'or i[0]=='i' or i[0]=='o' or i[0]=='u' or    i[0]=='A'or i[0]=='E'or i[0]=='I' or i[0]=='O' or i[0]=='U'):\n",
    "                i = i+\"ma\"\n",
    "                l.append(i)\n",
    "            else:\n",
    "                w = i[1:]+i[0]+\"ma\"\n",
    "                l.append(w)\n",
    "        for i in range(len(l)):\n",
    "            q = l[i]+\"a\"*(i+1)\n",
    "            v.append(q)\n",
    "        m = \" \".join(v)\n",
    "\n",
    "        \n",
    "        return m\n",
    "        "
   ]
  }
 ],
 "metadata": {
  "kernelspec": {
   "display_name": "Python 3 (ipykernel)",
   "language": "python",
   "name": "python3"
  },
  "language_info": {
   "codemirror_mode": {
    "name": "ipython",
    "version": 3
   },
   "file_extension": ".py",
   "mimetype": "text/x-python",
   "name": "python",
   "nbconvert_exporter": "python",
   "pygments_lexer": "ipython3",
   "version": "3.10.9"
  }
 },
 "nbformat": 4,
 "nbformat_minor": 5
}
