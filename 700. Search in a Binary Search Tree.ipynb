{
 "cells": [
  {
   "cell_type": "code",
   "execution_count": null,
   "id": "e8c54e90",
   "metadata": {},
   "outputs": [],
   "source": [
    "# Definition for a binary tree node.\n",
    "# class TreeNode:\n",
    "#     def __init__(self, val=0, left=None, right=None):\n",
    "#         self.val = val\n",
    "#         self.left = left\n",
    "#         self.right = right\n",
    "class Solution:\n",
    "    def searchBST(self, root: Optional[TreeNode], val: int) -> Optional[TreeNode]:\n",
    "        # null check && considering serching value is not available in the tree\n",
    "        if not root:\n",
    "            return\n",
    "        # considering the serching value is in right side of the tree\n",
    "        if val>root.val:\n",
    "            return self.searchBST(root.right,val)\n",
    "        # considering the serching value is in right side of the tree\n",
    "        elif val<root.val:\n",
    "            return self.searchBST(root.left,val)\n",
    "        #return if value exist \n",
    "        return root       \n",
    "        "
   ]
  }
 ],
 "metadata": {
  "kernelspec": {
   "display_name": "Python 3 (ipykernel)",
   "language": "python",
   "name": "python3"
  },
  "language_info": {
   "codemirror_mode": {
    "name": "ipython",
    "version": 3
   },
   "file_extension": ".py",
   "mimetype": "text/x-python",
   "name": "python",
   "nbconvert_exporter": "python",
   "pygments_lexer": "ipython3",
   "version": "3.10.9"
  }
 },
 "nbformat": 4,
 "nbformat_minor": 5
}
