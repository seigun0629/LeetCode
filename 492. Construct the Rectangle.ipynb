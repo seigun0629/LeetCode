{
 "cells": [
  {
   "cell_type": "code",
   "execution_count": null,
   "id": "31648c62",
   "metadata": {},
   "outputs": [],
   "source": [
    "class Solution:\n",
    "    def constructRectangle(self, area: int) -> List[int]:\n",
    "        l=[area,1]\n",
    "        d=l[0]-l[1]\n",
    "        i=2\n",
    "        x=0\n",
    "        while i*i<=area:\n",
    "            if area%i==0:\n",
    "                x=area//i\n",
    "                l=[x,i]\n",
    "            i+=1\n",
    "        return l\n"
   ]
  }
 ],
 "metadata": {
  "kernelspec": {
   "display_name": "Python 3 (ipykernel)",
   "language": "python",
   "name": "python3"
  },
  "language_info": {
   "codemirror_mode": {
    "name": "ipython",
    "version": 3
   },
   "file_extension": ".py",
   "mimetype": "text/x-python",
   "name": "python",
   "nbconvert_exporter": "python",
   "pygments_lexer": "ipython3",
   "version": "3.10.9"
  }
 },
 "nbformat": 4,
 "nbformat_minor": 5
}
