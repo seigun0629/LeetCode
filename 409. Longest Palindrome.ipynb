{
 "cells": [
  {
   "cell_type": "code",
   "execution_count": null,
   "id": "e182ed09",
   "metadata": {},
   "outputs": [],
   "source": [
    "class Solution:\n",
    "    def longestPalindrome(self, s: str) -> int:\n",
    "        k,p=1,0\n",
    "        if len(set(s))==1: return len(s)\n",
    "        c=Counter(s)\n",
    "        for i in c:\n",
    "            if c[i]%2==0:p+=c[i]\n",
    "            if c[i]%2!=0:\n",
    "                if k==1:\n",
    "                    p+=c[i]\n",
    "                    k=0\n",
    "                else:p+=(c[i]-1)\n",
    "        return p"
   ]
  }
 ],
 "metadata": {
  "kernelspec": {
   "display_name": "Python 3 (ipykernel)",
   "language": "python",
   "name": "python3"
  },
  "language_info": {
   "codemirror_mode": {
    "name": "ipython",
    "version": 3
   },
   "file_extension": ".py",
   "mimetype": "text/x-python",
   "name": "python",
   "nbconvert_exporter": "python",
   "pygments_lexer": "ipython3",
   "version": "3.10.9"
  }
 },
 "nbformat": 4,
 "nbformat_minor": 5
}
