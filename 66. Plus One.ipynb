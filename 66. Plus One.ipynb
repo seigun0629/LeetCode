{
 "cells": [
  {
   "cell_type": "code",
   "execution_count": null,
   "id": "5b529f27",
   "metadata": {},
   "outputs": [],
   "source": [
    "#66. Plus One \n",
    "class Solution:\n",
    "    def plusOne(self, digits: List[int]) -> List[int]:\n",
    "        n = len(digits)\n",
    "  \n",
    "        for i in range(n - 1, -1, -1):\n",
    "\n",
    "            digits[i] += 1\n",
    "\n",
    "            if digits[i] < 10:\n",
    "                return digits\n",
    "\n",
    "            digits[i] = 0\n",
    "       \n",
    "        return [1] + digits"
   ]
  }
 ],
 "metadata": {
  "kernelspec": {
   "display_name": "Python 3 (ipykernel)",
   "language": "python",
   "name": "python3"
  },
  "language_info": {
   "codemirror_mode": {
    "name": "ipython",
    "version": 3
   },
   "file_extension": ".py",
   "mimetype": "text/x-python",
   "name": "python",
   "nbconvert_exporter": "python",
   "pygments_lexer": "ipython3",
   "version": "3.10.9"
  }
 },
 "nbformat": 4,
 "nbformat_minor": 5
}
