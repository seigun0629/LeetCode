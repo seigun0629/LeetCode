{
 "cells": [
  {
   "cell_type": "code",
   "execution_count": null,
   "id": "698def13",
   "metadata": {},
   "outputs": [],
   "source": [
    "class Solution:\n",
    "    def minDiffInBST(self, root: Optional[TreeNode]) -> int:\n",
    "        minSoFar = float('inf')\n",
    "        prev = float('-inf')\n",
    "\n",
    "        def recur(node):\n",
    "            nonlocal minSoFar\n",
    "            nonlocal prev\n",
    "            \n",
    "            if not node:\n",
    "                return \n",
    "            \n",
    "            recur(node.left)\n",
    "            minSoFar = min(minSoFar, node.val - prev)\n",
    "            prev = node.val\n",
    "            recur(node.right)\n",
    "\n",
    "        recur(root)\n",
    "        return minSoFar"
   ]
  }
 ],
 "metadata": {
  "kernelspec": {
   "display_name": "Python 3 (ipykernel)",
   "language": "python",
   "name": "python3"
  },
  "language_info": {
   "codemirror_mode": {
    "name": "ipython",
    "version": 3
   },
   "file_extension": ".py",
   "mimetype": "text/x-python",
   "name": "python",
   "nbconvert_exporter": "python",
   "pygments_lexer": "ipython3",
   "version": "3.10.9"
  }
 },
 "nbformat": 4,
 "nbformat_minor": 5
}
