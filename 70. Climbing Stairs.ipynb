{
 "cells": [
  {
   "cell_type": "code",
   "execution_count": null,
   "id": "92bf71da",
   "metadata": {},
   "outputs": [],
   "source": [
    "\n",
    "class Solution:\n",
    "    def climbStairs(self, n: int) -> int:\n",
    "        memo = {}\n",
    "        return self.helper(n, memo)\n",
    "    \n",
    "    def helper(self, n: int, memo: dict[int, int]) -> int:\n",
    "        if n == 0 or n == 1:\n",
    "            return 1\n",
    "        if n not in memo:\n",
    "            memo[n] = self.helper(n-1, memo) + self.helper(n-2, memo)\n",
    "        return memo[n]"
   ]
  }
 ],
 "metadata": {
  "kernelspec": {
   "display_name": "Python 3 (ipykernel)",
   "language": "python",
   "name": "python3"
  },
  "language_info": {
   "codemirror_mode": {
    "name": "ipython",
    "version": 3
   },
   "file_extension": ".py",
   "mimetype": "text/x-python",
   "name": "python",
   "nbconvert_exporter": "python",
   "pygments_lexer": "ipython3",
   "version": "3.10.9"
  }
 },
 "nbformat": 4,
 "nbformat_minor": 5
}
