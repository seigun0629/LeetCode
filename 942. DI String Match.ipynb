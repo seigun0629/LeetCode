{
 "cells": [
  {
   "cell_type": "code",
   "execution_count": null,
   "id": "ab2226f6",
   "metadata": {},
   "outputs": [],
   "source": [
    "class Solution:\n",
    "    def diStringMatch(self, arr: str) -> List[int]:\n",
    "        lenn = len(arr)\n",
    "        i = 0\n",
    "        j = lenn\n",
    "        final = []\n",
    "\n",
    "        for k in range(lenn):\n",
    "            if arr[k] == \"D\":\n",
    "                final.append(j)\n",
    "                j -= 1\n",
    "            else:\n",
    "                final.append(i)\n",
    "                i += 1\n",
    "        if arr[lenn-1] == \"I\":\n",
    "            final.append(i)\n",
    "        else:\n",
    "            final.append(j)\n",
    "\n",
    "        return final"
   ]
  }
 ],
 "metadata": {
  "kernelspec": {
   "display_name": "Python 3 (ipykernel)",
   "language": "python",
   "name": "python3"
  },
  "language_info": {
   "codemirror_mode": {
    "name": "ipython",
    "version": 3
   },
   "file_extension": ".py",
   "mimetype": "text/x-python",
   "name": "python",
   "nbconvert_exporter": "python",
   "pygments_lexer": "ipython3",
   "version": "3.10.9"
  }
 },
 "nbformat": 4,
 "nbformat_minor": 5
}
