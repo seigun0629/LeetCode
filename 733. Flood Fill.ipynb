{
 "cells": [
  {
   "cell_type": "code",
   "execution_count": null,
   "id": "07360401",
   "metadata": {},
   "outputs": [],
   "source": [
    "class Solution:\n",
    "    def floodFill(self, image: List[List[int]], sr: int, sc: int, color: int) -> List[List[int]]:\n",
    "        \n",
    "        start_color = image[sr][sc]\n",
    "        \n",
    "        def flood_fill(x, y):\n",
    "            if x < 0 or x >= len(image): return\n",
    "            if y < 0 or y >= len(image[0]): return\n",
    "            \n",
    "            if image[x][y] == color: return\n",
    "            if image[x][y] != start_color: return\n",
    "            \n",
    "            image[x][y] = color\n",
    "            \n",
    "            flood_fill(x-1, y)\n",
    "            flood_fill(x+1, y)\n",
    "            flood_fill(x, y+1)\n",
    "            flood_fill(x, y-1)\n",
    "        \n",
    "        flood_fill(sr, sc)\n",
    "        return image"
   ]
  }
 ],
 "metadata": {
  "kernelspec": {
   "display_name": "Python 3 (ipykernel)",
   "language": "python",
   "name": "python3"
  },
  "language_info": {
   "codemirror_mode": {
    "name": "ipython",
    "version": 3
   },
   "file_extension": ".py",
   "mimetype": "text/x-python",
   "name": "python",
   "nbconvert_exporter": "python",
   "pygments_lexer": "ipython3",
   "version": "3.10.9"
  }
 },
 "nbformat": 4,
 "nbformat_minor": 5
}
