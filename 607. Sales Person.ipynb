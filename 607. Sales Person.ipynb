{
 "cells": [
  {
   "cell_type": "code",
   "execution_count": null,
   "id": "84913f89",
   "metadata": {},
   "outputs": [],
   "source": [
    "import pandas as pd\n",
    "\n",
    "def sales_person(sales_person: pd.DataFrame, company: pd.DataFrame, orders: pd.DataFrame) -> pd.DataFrame:\n",
    "    \n",
    "    intermediate_merge = sales_person.merge(right=orders, how=\"outer\", on=\"sales_id\")\n",
    "\n",
    "    final_merge = intermediate_merge.merge(right=company, how=\"left\", on=\"com_id\")\n",
    "\n",
    "    red = final_merge[final_merge[\"name_y\"] == \"RED\"][[\"name_x\"]]\n",
    "\n",
    "    non_red = sales_person[[\"name\"]].merge(right=red, how=\"outer\", left_on=\"name\", right_on=\"name_x\", indicator=True)\n",
    "\n",
    "    return non_red[non_red[\"_merge\"] == \"left_only\"][[\"name\"]]"
   ]
  }
 ],
 "metadata": {
  "kernelspec": {
   "display_name": "Python 3 (ipykernel)",
   "language": "python",
   "name": "python3"
  },
  "language_info": {
   "codemirror_mode": {
    "name": "ipython",
    "version": 3
   },
   "file_extension": ".py",
   "mimetype": "text/x-python",
   "name": "python",
   "nbconvert_exporter": "python",
   "pygments_lexer": "ipython3",
   "version": "3.10.9"
  }
 },
 "nbformat": 4,
 "nbformat_minor": 5
}
