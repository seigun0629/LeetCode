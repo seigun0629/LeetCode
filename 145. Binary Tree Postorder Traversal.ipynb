{
 "cells": [
  {
   "cell_type": "code",
   "execution_count": null,
   "id": "0389a026",
   "metadata": {},
   "outputs": [],
   "source": [
    "class Solution:\n",
    "    def postorderTraversal(self, root: Optional[TreeNode]) -> List[int]:\n",
    "\n",
    "        stack = [(root, False)]\n",
    "        res = []\n",
    "        while stack:\n",
    "\n",
    "            currentNode, visited = stack.pop()\n",
    "            if not currentNode:\n",
    "                continue\n",
    "            if visited:\n",
    "                res.append(currentNode.val)\n",
    "            else:\n",
    "                stack.append((currentNode, True))\n",
    "                stack.append((currentNode.right, False))\n",
    "                stack.append((currentNode.left, False))\n",
    "        return res"
   ]
  }
 ],
 "metadata": {
  "kernelspec": {
   "display_name": "Python 3 (ipykernel)",
   "language": "python",
   "name": "python3"
  },
  "language_info": {
   "codemirror_mode": {
    "name": "ipython",
    "version": 3
   },
   "file_extension": ".py",
   "mimetype": "text/x-python",
   "name": "python",
   "nbconvert_exporter": "python",
   "pygments_lexer": "ipython3",
   "version": "3.10.9"
  }
 },
 "nbformat": 4,
 "nbformat_minor": 5
}
