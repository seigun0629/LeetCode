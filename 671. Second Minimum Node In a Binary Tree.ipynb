{
 "cells": [
  {
   "cell_type": "code",
   "execution_count": null,
   "id": "81f7198d",
   "metadata": {},
   "outputs": [],
   "source": [
    "# Definition for a binary tree node.\n",
    "# class TreeNode:\n",
    "#     def __init__(self, val=0, left=None, right=None):\n",
    "#         self.val = val\n",
    "#         self.left = left\n",
    "#         self.right = right\n",
    "\n",
    "class Solution:\n",
    "    def findSecondMinimumValue(self, root: Optional[TreeNode]) -> int:\n",
    "        if not root:\n",
    "            return -1\n",
    "\n",
    "        smallest = root.val\n",
    "        secondSmallest = sys.maxsize\n",
    "        stack = []\n",
    "        stack.append(root)\n",
    "        while stack:\n",
    "            node = stack.pop()\n",
    "            if node.left and (secondSmallest == sys.maxsize or node.left.val <= secondSmallest):\n",
    "                if node.left.val != smallest:\n",
    "                    secondSmallest = min(secondSmallest, node.left.val)\n",
    "                stack.append(node.left)\n",
    "\n",
    "            if node.right and (secondSmallest == sys.maxsize or node.right.val <= secondSmallest):\n",
    "                if node.right.val != smallest:\n",
    "                    secondSmallest = min(secondSmallest, node.right.val)\n",
    "                stack.append(node.right)\n",
    "\n",
    "        return secondSmallest if secondSmallest != sys.maxsize else -1"
   ]
  }
 ],
 "metadata": {
  "kernelspec": {
   "display_name": "Python 3 (ipykernel)",
   "language": "python",
   "name": "python3"
  },
  "language_info": {
   "codemirror_mode": {
    "name": "ipython",
    "version": 3
   },
   "file_extension": ".py",
   "mimetype": "text/x-python",
   "name": "python",
   "nbconvert_exporter": "python",
   "pygments_lexer": "ipython3",
   "version": "3.10.9"
  }
 },
 "nbformat": 4,
 "nbformat_minor": 5
}
