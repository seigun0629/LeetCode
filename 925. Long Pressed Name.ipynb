{
 "cells": [
  {
   "cell_type": "code",
   "execution_count": null,
   "id": "81229946",
   "metadata": {},
   "outputs": [],
   "source": [
    "class Solution:\n",
    "    def isLongPressedName(self, name: str, typed: str) -> bool:\n",
    "        ni = 0       # index of name\n",
    "        ti = 0       # index of typed\n",
    "        while ni <= len(name) and ti < len(typed):\n",
    "            if ni < len(name) and typed[ti] == name[ni]:\n",
    "                ti += 1\n",
    "                ni += 1\n",
    "            elif typed[ti] == name[ni-1] and ni != 0:\n",
    "                ti += 1\n",
    "            else:\n",
    "                return False\n",
    "            \n",
    "        return ni == len(name) and ti == len(typed)\n",
    "        "
   ]
  }
 ],
 "metadata": {
  "kernelspec": {
   "display_name": "Python 3 (ipykernel)",
   "language": "python",
   "name": "python3"
  },
  "language_info": {
   "codemirror_mode": {
    "name": "ipython",
    "version": 3
   },
   "file_extension": ".py",
   "mimetype": "text/x-python",
   "name": "python",
   "nbconvert_exporter": "python",
   "pygments_lexer": "ipython3",
   "version": "3.10.9"
  }
 },
 "nbformat": 4,
 "nbformat_minor": 5
}
