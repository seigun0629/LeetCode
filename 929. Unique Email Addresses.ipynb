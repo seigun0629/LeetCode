{
 "cells": [
  {
   "cell_type": "code",
   "execution_count": null,
   "id": "d053d403",
   "metadata": {},
   "outputs": [],
   "source": [
    "class Solution:\n",
    "    def numUniqueEmails(self, emails: List[str]) -> int:\n",
    "        arr=[]\n",
    "        for i in emails:\n",
    "            if '@' in i:\n",
    "                at = i.index('@')\n",
    "                temp=i[:at]\n",
    "                temp=temp.replace(\".\",\"\")\n",
    "                \n",
    "                if '+' in temp:\n",
    "                    plus = temp.index('+')\n",
    "                    temp = temp[0:plus]\n",
    "                temp+=i[at:]\n",
    "                if temp not in arr:\n",
    "                    arr.append(temp)\n",
    "            else:\n",
    "                continue\n",
    "        #print(arr)\n",
    "        return len(arr)"
   ]
  }
 ],
 "metadata": {
  "kernelspec": {
   "display_name": "Python 3 (ipykernel)",
   "language": "python",
   "name": "python3"
  },
  "language_info": {
   "codemirror_mode": {
    "name": "ipython",
    "version": 3
   },
   "file_extension": ".py",
   "mimetype": "text/x-python",
   "name": "python",
   "nbconvert_exporter": "python",
   "pygments_lexer": "ipython3",
   "version": "3.10.9"
  }
 },
 "nbformat": 4,
 "nbformat_minor": 5
}
