{
 "cells": [
  {
   "cell_type": "code",
   "execution_count": null,
   "id": "5b8bd33b",
   "metadata": {},
   "outputs": [],
   "source": [
    "class Solution:\n",
    "    def binaryGap(self, n: int) -> int:\n",
    "        a = bin(n)[2:]\n",
    "        ans = 0\n",
    "        count = 0\n",
    "        check = False\n",
    "        for i in range(len(a)):\n",
    "            if not check and a[i] == \"1\":\n",
    "                check = True\n",
    "            elif check and a[i] != \"1\":\n",
    "                count +=1\n",
    "            elif check and a[i] == \"1\":\n",
    "                count +=1\n",
    "                ans = max(ans, count)\n",
    "                count = 0\n",
    "        return ans"
   ]
  }
 ],
 "metadata": {
  "kernelspec": {
   "display_name": "Python 3 (ipykernel)",
   "language": "python",
   "name": "python3"
  },
  "language_info": {
   "codemirror_mode": {
    "name": "ipython",
    "version": 3
   },
   "file_extension": ".py",
   "mimetype": "text/x-python",
   "name": "python",
   "nbconvert_exporter": "python",
   "pygments_lexer": "ipython3",
   "version": "3.10.9"
  }
 },
 "nbformat": 4,
 "nbformat_minor": 5
}
