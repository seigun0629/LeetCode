{
 "cells": [
  {
   "cell_type": "code",
   "execution_count": null,
   "id": "46c9b7e9",
   "metadata": {},
   "outputs": [],
   "source": [
    "\n",
    "class Solution:\n",
    "    def readBinaryWatch(self, turnedOn: int) -> List[str]:\n",
    "\n",
    "        \n",
    "        def bit_counter(n):\n",
    "            s = bin(n)[2:]\n",
    "            temp = 0\n",
    "            for i in s:\n",
    "                if i == '1':\n",
    "                    temp += 1\n",
    "            return temp\n",
    "        \n",
    "        result = []\n",
    "        \n",
    "        for h in range(12):\n",
    "            for m in range(60):\n",
    "                if bit_counter(h) + bit_counter(m) == turnedOn:\n",
    "                    result.append(f'{h}:{m:02}')\n",
    "                    \n",
    "        return result"
   ]
  }
 ],
 "metadata": {
  "kernelspec": {
   "display_name": "Python 3 (ipykernel)",
   "language": "python",
   "name": "python3"
  },
  "language_info": {
   "codemirror_mode": {
    "name": "ipython",
    "version": 3
   },
   "file_extension": ".py",
   "mimetype": "text/x-python",
   "name": "python",
   "nbconvert_exporter": "python",
   "pygments_lexer": "ipython3",
   "version": "3.10.9"
  }
 },
 "nbformat": 4,
 "nbformat_minor": 5
}
