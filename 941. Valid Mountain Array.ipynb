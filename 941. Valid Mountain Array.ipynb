{
 "cells": [
  {
   "cell_type": "code",
   "execution_count": null,
   "id": "8722ca8e",
   "metadata": {},
   "outputs": [],
   "source": [
    "class Solution:\n",
    "    def validMountainArray(self, arr: List[int]) -> bool:\n",
    "        max_num = max(arr)\n",
    "        # Edge cases --> if the slope of the mountain is strictly increasing/decreasing\n",
    "        if max_num == arr[len(arr) - 1] or max_num == arr[0]:\n",
    "            return False\n",
    "        max_found = False\n",
    "        for i in range(len(arr) - 1):\n",
    "            # We initially want the mountain to be increasing but\n",
    "            # once we find the max number, we want the mountain to decrease\n",
    "            if arr[i] == max_num:\n",
    "                max_found = True\n",
    "            if max_found and arr[i] <= arr[i + 1]:\n",
    "                return False\n",
    "            elif not max_found and arr[i] >= arr[i + 1]:\n",
    "                return False\n",
    "        return True"
   ]
  }
 ],
 "metadata": {
  "kernelspec": {
   "display_name": "Python 3 (ipykernel)",
   "language": "python",
   "name": "python3"
  },
  "language_info": {
   "codemirror_mode": {
    "name": "ipython",
    "version": 3
   },
   "file_extension": ".py",
   "mimetype": "text/x-python",
   "name": "python",
   "nbconvert_exporter": "python",
   "pygments_lexer": "ipython3",
   "version": "3.10.9"
  }
 },
 "nbformat": 4,
 "nbformat_minor": 5
}
