{
 "cells": [
  {
   "cell_type": "code",
   "execution_count": null,
   "id": "c479b373",
   "metadata": {},
   "outputs": [],
   "source": [
    "class TreeNode:\n",
    "    def __init__(self, val=0, left=None, right=None):\n",
    "        self.val = val\n",
    "        self.left = left\n",
    "        self.right = right\n",
    "\n",
    "class Solution:\n",
    "    def minDepth(self, root: TreeNode) -> int:\n",
    "        if not root:\n",
    "            return 0\n",
    "        \n",
    "        # If left subtree is None, recur for right subtree\n",
    "        if not root.left:\n",
    "            return self.minDepth(root.right) + 1\n",
    "        \n",
    "        # If right subtree is None, recur for left subtree\n",
    "        if not root.right:\n",
    "            return self.minDepth(root.left) + 1\n",
    "        \n",
    "        # If both left and right subtrees are not None, take the minimum of the two depths\n",
    "        return min(self.minDepth(root.left), self.minDepth(root.right)) + 1\n"
   ]
  }
 ],
 "metadata": {
  "kernelspec": {
   "display_name": "Python 3 (ipykernel)",
   "language": "python",
   "name": "python3"
  },
  "language_info": {
   "codemirror_mode": {
    "name": "ipython",
    "version": 3
   },
   "file_extension": ".py",
   "mimetype": "text/x-python",
   "name": "python",
   "nbconvert_exporter": "python",
   "pygments_lexer": "ipython3",
   "version": "3.10.9"
  }
 },
 "nbformat": 4,
 "nbformat_minor": 5
}
