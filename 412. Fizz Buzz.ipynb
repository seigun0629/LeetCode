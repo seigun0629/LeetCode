{
 "cells": [
  {
   "cell_type": "code",
   "execution_count": null,
   "id": "398a160c",
   "metadata": {},
   "outputs": [],
   "source": [
    "\n",
    "class Solution:\n",
    "    def fizzBuzz(self,n):\n",
    "        aList=list()\n",
    "        i = 1\n",
    "        while i<=n:\n",
    "            if i%3==0 and i%5==0:\n",
    "                aList.append(\"FizzBuzz\")\n",
    "            elif i%5==0:\n",
    "                aList.append(\"Buzz\")\n",
    "            elif i%3==0:\n",
    "                aList.append(\"Fizz\")\n",
    "            else:\n",
    "                aList.append(str(i))\n",
    "            i+=1\n",
    "        return aList"
   ]
  }
 ],
 "metadata": {
  "kernelspec": {
   "display_name": "Python 3 (ipykernel)",
   "language": "python",
   "name": "python3"
  },
  "language_info": {
   "codemirror_mode": {
    "name": "ipython",
    "version": 3
   },
   "file_extension": ".py",
   "mimetype": "text/x-python",
   "name": "python",
   "nbconvert_exporter": "python",
   "pygments_lexer": "ipython3",
   "version": "3.10.9"
  }
 },
 "nbformat": 4,
 "nbformat_minor": 5
}
