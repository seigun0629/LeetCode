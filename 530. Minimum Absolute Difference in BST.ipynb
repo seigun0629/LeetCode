{
 "cells": [
  {
   "cell_type": "code",
   "execution_count": null,
   "id": "8f7a3bc6",
   "metadata": {},
   "outputs": [],
   "source": [
    "# Definition for a binary tree node.\n",
    "# class TreeNode:\n",
    "#     def __init__(self, val=0, left=None, right=None):\n",
    "#         self.val = val\n",
    "#         self.left = left\n",
    "#         self.right = right\n",
    "class Solution:\n",
    "    def getMinimumDifference(self, root: Optional[TreeNode]) -> int:\n",
    "        def inorder(r):\n",
    "            res=[]\n",
    "            if r.left:\n",
    "                res+=inorder(r.left)\n",
    "            res.append(r.val)\n",
    "            if r.right:\n",
    "                res+=inorder(r.right)\n",
    "            return res\n",
    "        arr=inorder(root)\n",
    "        m=float('inf')\n",
    "        for i in range(len(arr)-1):\n",
    "            m=min(m,arr[i+1]-arr[i])\n",
    "        return m"
   ]
  }
 ],
 "metadata": {
  "kernelspec": {
   "display_name": "Python 3 (ipykernel)",
   "language": "python",
   "name": "python3"
  },
  "language_info": {
   "codemirror_mode": {
    "name": "ipython",
    "version": 3
   },
   "file_extension": ".py",
   "mimetype": "text/x-python",
   "name": "python",
   "nbconvert_exporter": "python",
   "pygments_lexer": "ipython3",
   "version": "3.10.9"
  }
 },
 "nbformat": 4,
 "nbformat_minor": 5
}
