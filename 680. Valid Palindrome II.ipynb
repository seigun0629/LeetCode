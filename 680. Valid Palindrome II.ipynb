{
 "cells": [
  {
   "cell_type": "code",
   "execution_count": null,
   "id": "08ec824f",
   "metadata": {},
   "outputs": [],
   "source": [
    "class Solution:\n",
    "    def validPalindrome(self, s: str) -> bool:\n",
    "        c = 0\n",
    "        p1 = 0\n",
    "        n = len(s)\n",
    "        p2 = n - 1\n",
    "        while p1 < p2 and c <= 1:\n",
    "            if s[p1] != s[p2]:\n",
    "                c += 1\n",
    "            else:\n",
    "                p2 -= 1\n",
    "            p1 += 1\n",
    "        if c <= 1:\n",
    "            return 1\n",
    "        c = 0\n",
    "        p1 = 0\n",
    "        p2 = n - 1\n",
    "        while p1 < p2 and c <= 1:\n",
    "            if s[p1] != s[p2]:\n",
    "                c += 1\n",
    "            else:\n",
    "                p1 += 1\n",
    "            p2 -= 1\n",
    "        return c <= 1"
   ]
  }
 ],
 "metadata": {
  "kernelspec": {
   "display_name": "Python 3 (ipykernel)",
   "language": "python",
   "name": "python3"
  },
  "language_info": {
   "codemirror_mode": {
    "name": "ipython",
    "version": 3
   },
   "file_extension": ".py",
   "mimetype": "text/x-python",
   "name": "python",
   "nbconvert_exporter": "python",
   "pygments_lexer": "ipython3",
   "version": "3.10.9"
  }
 },
 "nbformat": 4,
 "nbformat_minor": 5
}
