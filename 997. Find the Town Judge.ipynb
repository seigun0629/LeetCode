{
 "cells": [
  {
   "cell_type": "code",
   "execution_count": null,
   "id": "2d556843",
   "metadata": {},
   "outputs": [],
   "source": [
    "class Solution:\n",
    "    def findJudge(self, n: int, trust: List[List[int]]) -> int:\n",
    "        first = [i[0] for i in trust]\n",
    "\n",
    "        case1 = (n*(n+1))//2 - sum(set(first))\n",
    "\n",
    "        if case1 == 0:\n",
    "            return -1\n",
    "        else:\n",
    "            for j in range(1,n+1):\n",
    "                if j == case1:\n",
    "                    continue\n",
    "                elif [j,case1] not in trust:\n",
    "                    return -1\n",
    "            return case1"
   ]
  }
 ],
 "metadata": {
  "kernelspec": {
   "display_name": "Python 3 (ipykernel)",
   "language": "python",
   "name": "python3"
  },
  "language_info": {
   "codemirror_mode": {
    "name": "ipython",
    "version": 3
   },
   "file_extension": ".py",
   "mimetype": "text/x-python",
   "name": "python",
   "nbconvert_exporter": "python",
   "pygments_lexer": "ipython3",
   "version": "3.10.9"
  }
 },
 "nbformat": 4,
 "nbformat_minor": 5
}
