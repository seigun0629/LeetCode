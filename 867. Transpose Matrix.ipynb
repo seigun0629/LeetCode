{
 "cells": [
  {
   "cell_type": "code",
   "execution_count": null,
   "id": "52646eb2",
   "metadata": {},
   "outputs": [],
   "source": [
    "class Solution:\n",
    "    def transpose(self, matrix: List[List[int]], row=0) -> List[List[int]]:\n",
    "        row = len(matrix)\n",
    "        col = len(matrix[0])\n",
    "        \n",
    "        res = []\n",
    "        for i in range(col):\n",
    "            res.append([0]*row)\n",
    "\n",
    "        for i in range(row):\n",
    "            for j in range(col):\n",
    "                res[j][i] = matrix[i][j]\n",
    "        return res\n",
    "\n",
    "        "
   ]
  }
 ],
 "metadata": {
  "kernelspec": {
   "display_name": "Python 3 (ipykernel)",
   "language": "python",
   "name": "python3"
  },
  "language_info": {
   "codemirror_mode": {
    "name": "ipython",
    "version": 3
   },
   "file_extension": ".py",
   "mimetype": "text/x-python",
   "name": "python",
   "nbconvert_exporter": "python",
   "pygments_lexer": "ipython3",
   "version": "3.10.9"
  }
 },
 "nbformat": 4,
 "nbformat_minor": 5
}
