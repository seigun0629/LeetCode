{
 "cells": [
  {
   "cell_type": "code",
   "execution_count": null,
   "id": "375fc8c0",
   "metadata": {},
   "outputs": [],
   "source": [
    "class Solution:\n",
    "    def convertToBase7(self, num: int) -> str:\n",
    "\n",
    "        if num == 0: return '0'\n",
    "\n",
    "        ans, n = '', abs(num)\n",
    "\n",
    "        while n:\n",
    "            n, m = divmod(n,7)\n",
    "            ans+=str(m)\n",
    "\n",
    "        if num < 0: ans+= '-'\n",
    "\n",
    "        return ans[::-1]"
   ]
  }
 ],
 "metadata": {
  "kernelspec": {
   "display_name": "Python 3 (ipykernel)",
   "language": "python",
   "name": "python3"
  },
  "language_info": {
   "codemirror_mode": {
    "name": "ipython",
    "version": 3
   },
   "file_extension": ".py",
   "mimetype": "text/x-python",
   "name": "python",
   "nbconvert_exporter": "python",
   "pygments_lexer": "ipython3",
   "version": "3.10.9"
  }
 },
 "nbformat": 4,
 "nbformat_minor": 5
}
