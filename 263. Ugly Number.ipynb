{
 "cells": [
  {
   "cell_type": "code",
   "execution_count": null,
   "id": "a6068297",
   "metadata": {},
   "outputs": [],
   "source": [
    "class Solution:\n",
    "    def isUgly(self, n: int) -> bool:\n",
    "        if n <= 0: \n",
    "            return False \n",
    "        primes = [2, 3, 5]\n",
    "        for i in range(len(primes)): \n",
    "            while n % primes[i] == float(0): \n",
    "                n = n / primes[i]\n",
    "        return n == float(1)"
   ]
  }
 ],
 "metadata": {
  "kernelspec": {
   "display_name": "Python 3 (ipykernel)",
   "language": "python",
   "name": "python3"
  },
  "language_info": {
   "codemirror_mode": {
    "name": "ipython",
    "version": 3
   },
   "file_extension": ".py",
   "mimetype": "text/x-python",
   "name": "python",
   "nbconvert_exporter": "python",
   "pygments_lexer": "ipython3",
   "version": "3.10.9"
  }
 },
 "nbformat": 4,
 "nbformat_minor": 5
}
