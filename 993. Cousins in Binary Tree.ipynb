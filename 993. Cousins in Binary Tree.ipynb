{
 "cells": [
  {
   "cell_type": "code",
   "execution_count": null,
   "id": "41ced952",
   "metadata": {},
   "outputs": [],
   "source": [
    "# Definition for a binary tree node.\n",
    "# class TreeNode:\n",
    "#     def __init__(self, val=0, left=None, right=None):\n",
    "#         self.val = val\n",
    "#         self.left = left\n",
    "#         self.right = right\n",
    "class Solution:\n",
    "    def isCousins(self, root: Optional[TreeNode], x: int, y: int) -> bool:\n",
    "        queue = [(root, None)]\n",
    "\n",
    "        while queue:\n",
    "            newQueue = []\n",
    "\n",
    "            xParent = None\n",
    "            yParent = None\n",
    "\n",
    "            for node, parent in queue:\n",
    "                if node.val == x:\n",
    "                    xParent = parent\n",
    "                elif node.val == y:\n",
    "                    yParent = parent\n",
    "\n",
    "                if xParent and yParent:\n",
    "                    return xParent != yParent\n",
    "\n",
    "                if node.left:\n",
    "                    newQueue.append((node.left, node))\n",
    "                if node.right:\n",
    "                    newQueue.append((node.right, node))\n",
    "\n",
    "            queue = newQueue\n",
    "\n",
    "        return False"
   ]
  }
 ],
 "metadata": {
  "kernelspec": {
   "display_name": "Python 3 (ipykernel)",
   "language": "python",
   "name": "python3"
  },
  "language_info": {
   "codemirror_mode": {
    "name": "ipython",
    "version": 3
   },
   "file_extension": ".py",
   "mimetype": "text/x-python",
   "name": "python",
   "nbconvert_exporter": "python",
   "pygments_lexer": "ipython3",
   "version": "3.10.9"
  }
 },
 "nbformat": 4,
 "nbformat_minor": 5
}
