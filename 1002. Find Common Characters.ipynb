{
 "cells": [
  {
   "cell_type": "code",
   "execution_count": null,
   "id": "b3342872",
   "metadata": {},
   "outputs": [],
   "source": [
    "class Solution:\n",
    "    def commonChars(self, words: List[str]) -> List[str]:\n",
    "        res_counts = defaultdict(int)\n",
    "        for char in words[0]:\n",
    "            res_counts[char] += 1\n",
    "\n",
    "        for i in range(1, len(words)):\n",
    "            word = words[i]\n",
    "            char_counts = defaultdict(int)\n",
    "            for char in word:\n",
    "                char_counts[char] += 1\n",
    "            for char in res_counts:\n",
    "                res_counts[char] = min(res_counts[char], char_counts[char])\n",
    "        \n",
    "        res = []\n",
    "        for char, char_count in res_counts.items():\n",
    "            if char_count != 0:\n",
    "                for i in range(char_count):\n",
    "                    res.append(char)\n",
    "        return res"
   ]
  }
 ],
 "metadata": {
  "kernelspec": {
   "display_name": "Python 3 (ipykernel)",
   "language": "python",
   "name": "python3"
  },
  "language_info": {
   "codemirror_mode": {
    "name": "ipython",
    "version": 3
   },
   "file_extension": ".py",
   "mimetype": "text/x-python",
   "name": "python",
   "nbconvert_exporter": "python",
   "pygments_lexer": "ipython3",
   "version": "3.10.9"
  }
 },
 "nbformat": 4,
 "nbformat_minor": 5
}
