{
 "cells": [
  {
   "cell_type": "code",
   "execution_count": null,
   "id": "545c2ee4",
   "metadata": {},
   "outputs": [],
   "source": [
    "import pandas as pd\n",
    "\n",
    "def not_boring_movies(cinema: pd.DataFrame) -> pd.DataFrame:\n",
    "    result = cinema[(cinema['id']%2 == 1) & (cinema['description'].apply(lambda x: 'boring' not in x))]\n",
    "    result = result.sort_values(by='rating', ascending = False)\n",
    "    return result"
   ]
  }
 ],
 "metadata": {
  "kernelspec": {
   "display_name": "Python 3 (ipykernel)",
   "language": "python",
   "name": "python3"
  },
  "language_info": {
   "codemirror_mode": {
    "name": "ipython",
    "version": 3
   },
   "file_extension": ".py",
   "mimetype": "text/x-python",
   "name": "python",
   "nbconvert_exporter": "python",
   "pygments_lexer": "ipython3",
   "version": "3.10.9"
  }
 },
 "nbformat": 4,
 "nbformat_minor": 5
}
