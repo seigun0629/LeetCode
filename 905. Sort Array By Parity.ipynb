{
 "cells": [
  {
   "cell_type": "code",
   "execution_count": null,
   "id": "be4bf4a9",
   "metadata": {},
   "outputs": [],
   "source": [
    "class Solution:\n",
    "    def sortArrayByParity(self, nums: List[int]) -> List[int]:\n",
    "        i, j = 0, len(nums) - 1\n",
    "        \n",
    "        while i < j:\n",
    "            while i < j and nums[i] % 2 == 0:\n",
    "                i += 1\n",
    "            while i < j and nums[j] % 2 == 1:\n",
    "                j -= 1\n",
    "            \n",
    "            nums[i], nums[j] = nums[j], nums[i]\n",
    "        \n",
    "        return nums"
   ]
  }
 ],
 "metadata": {
  "kernelspec": {
   "display_name": "Python 3 (ipykernel)",
   "language": "python",
   "name": "python3"
  },
  "language_info": {
   "codemirror_mode": {
    "name": "ipython",
    "version": 3
   },
   "file_extension": ".py",
   "mimetype": "text/x-python",
   "name": "python",
   "nbconvert_exporter": "python",
   "pygments_lexer": "ipython3",
   "version": "3.10.9"
  }
 },
 "nbformat": 4,
 "nbformat_minor": 5
}
