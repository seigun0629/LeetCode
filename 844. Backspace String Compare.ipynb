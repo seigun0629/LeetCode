{
 "cells": [
  {
   "cell_type": "code",
   "execution_count": null,
   "id": "ecc9e25e",
   "metadata": {},
   "outputs": [],
   "source": [
    "class Solution:\n",
    "    def backspaceCompare(self, s: str, t: str) -> bool:\n",
    "        text_s = \"\"\n",
    "        text_t = \"\"\n",
    "        for letter in s:\n",
    "            if letter != \"#\":\n",
    "                text_s += letter\n",
    "            else:\n",
    "                text_s = text_s[:-1]\n",
    "        for letter in t:\n",
    "            if letter != \"#\":\n",
    "                text_t += letter\n",
    "            else:\n",
    "                text_t = text_t[:-1]\n",
    "        return text_s == text_t"
   ]
  }
 ],
 "metadata": {
  "kernelspec": {
   "display_name": "Python 3 (ipykernel)",
   "language": "python",
   "name": "python3"
  },
  "language_info": {
   "codemirror_mode": {
    "name": "ipython",
    "version": 3
   },
   "file_extension": ".py",
   "mimetype": "text/x-python",
   "name": "python",
   "nbconvert_exporter": "python",
   "pygments_lexer": "ipython3",
   "version": "3.10.9"
  }
 },
 "nbformat": 4,
 "nbformat_minor": 5
}
