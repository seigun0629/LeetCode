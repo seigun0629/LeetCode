{
 "cells": [
  {
   "cell_type": "code",
   "execution_count": null,
   "id": "fc0793ee",
   "metadata": {},
   "outputs": [],
   "source": [
    "class Solution:\n",
    "    def numberOfLines(self, widths: List[int], s: str) -> List[int]:\n",
    "\n",
    "        alphabets = ['a', 'b', 'c', 'd', 'e', 'f', 'g', 'h', 'i', 'j', 'k', 'l', 'm', 'n', 'o', 'p', 'q','r','s','t','u','v','w','x','y','z']\n",
    "        alp_with_values = {}\n",
    "        pixels =0\n",
    "        last_value=0\n",
    "        line_count =1\n",
    "        for i in range(len(alphabets)):\n",
    "            alp_with_values[alphabets[i]] = widths[i]\n",
    "        for i in s:\n",
    "            pixels+=alp_with_values[i]\n",
    "            if pixels>100:\n",
    "                line_count+=1\n",
    "                pixels =alp_with_values[i]\n",
    "        \n",
    "                \n",
    "        return(line_count,pixels)"
   ]
  }
 ],
 "metadata": {
  "kernelspec": {
   "display_name": "Python 3 (ipykernel)",
   "language": "python",
   "name": "python3"
  },
  "language_info": {
   "codemirror_mode": {
    "name": "ipython",
    "version": 3
   },
   "file_extension": ".py",
   "mimetype": "text/x-python",
   "name": "python",
   "nbconvert_exporter": "python",
   "pygments_lexer": "ipython3",
   "version": "3.10.9"
  }
 },
 "nbformat": 4,
 "nbformat_minor": 5
}
