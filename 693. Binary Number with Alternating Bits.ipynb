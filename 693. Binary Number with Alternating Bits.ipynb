{
 "cells": [
  {
   "cell_type": "code",
   "execution_count": null,
   "id": "9ce433b9",
   "metadata": {},
   "outputs": [],
   "source": [
    "class Solution:\n",
    "    def hasAlternatingBits(self, n: int) -> bool:\n",
    "        d = bin(n)[2:]\n",
    "        s = str(d)\n",
    "        u = s[::2]\n",
    "        g = s[1::2]\n",
    "        if(n==1 or n==0):\n",
    "            return True\n",
    "        if(set(u)== {'0'} and set(g)=={'1'}) or (set(u)== {'1'} and set(g)=={'0'}) :\n",
    "            return True\n",
    "        else:\n",
    "            return False\n",
    "        "
   ]
  }
 ],
 "metadata": {
  "kernelspec": {
   "display_name": "Python 3 (ipykernel)",
   "language": "python",
   "name": "python3"
  },
  "language_info": {
   "codemirror_mode": {
    "name": "ipython",
    "version": 3
   },
   "file_extension": ".py",
   "mimetype": "text/x-python",
   "name": "python",
   "nbconvert_exporter": "python",
   "pygments_lexer": "ipython3",
   "version": "3.10.9"
  }
 },
 "nbformat": 4,
 "nbformat_minor": 5
}
