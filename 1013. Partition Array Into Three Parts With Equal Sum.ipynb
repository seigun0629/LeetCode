{
 "cells": [
  {
   "cell_type": "code",
   "execution_count": null,
   "id": "44045fb5",
   "metadata": {},
   "outputs": [],
   "source": [
    "class Solution:\n",
    "    def canThreePartsEqualSum(self, arr: List[int]) -> bool:\n",
    "        s = sum(arr)\n",
    "        if s % 3:\n",
    "            return False\n",
    "        \n",
    "        part_sum = s / 3\n",
    "        \n",
    "        cur_sum = parts = 0\n",
    "        for num in arr:\n",
    "            cur_sum += num\n",
    "            if cur_sum == part_sum:\n",
    "                if parts == 2:\n",
    "                    return True\n",
    "                cur_sum = 0\n",
    "                parts += 1\n",
    "        \n",
    "        return False"
   ]
  }
 ],
 "metadata": {
  "kernelspec": {
   "display_name": "Python 3 (ipykernel)",
   "language": "python",
   "name": "python3"
  },
  "language_info": {
   "codemirror_mode": {
    "name": "ipython",
    "version": 3
   },
   "file_extension": ".py",
   "mimetype": "text/x-python",
   "name": "python",
   "nbconvert_exporter": "python",
   "pygments_lexer": "ipython3",
   "version": "3.10.9"
  }
 },
 "nbformat": 4,
 "nbformat_minor": 5
}
