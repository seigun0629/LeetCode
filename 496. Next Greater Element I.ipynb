{
 "cells": [
  {
   "cell_type": "code",
   "execution_count": null,
   "id": "73608139",
   "metadata": {},
   "outputs": [],
   "source": [
    "class Solution:\n",
    "    def nextGreaterElement(self, nums1: List[int], nums2: List[int]) -> List[int]:\n",
    "        d={}\n",
    "        n=len(nums2)\n",
    "        for i in range(n):\n",
    "            d[nums2[i]]=i\n",
    "        a=[nums2[-1]]\n",
    "        answer=[-1]\n",
    "        for i in range(n-2,-1,-1):\n",
    "            if a[-1]>nums2[i]:\n",
    "                answer.append(a[-1])\n",
    "            else:\n",
    "                while len(a)>0:\n",
    "                    if a[-1]>nums2[i]:\n",
    "                        answer.append(a[-1])\n",
    "                        break\n",
    "                    else:\n",
    "                        a.pop()\n",
    "                if len(a)==0:\n",
    "                    answer.append(-1)\n",
    "            a.append(nums2[i])\n",
    "        res=[]\n",
    "        answer=answer[-1::-1]\n",
    "        for i in nums1:\n",
    "            res.append(answer[d[i]])\n",
    "        return res"
   ]
  }
 ],
 "metadata": {
  "kernelspec": {
   "display_name": "Python 3 (ipykernel)",
   "language": "python",
   "name": "python3"
  },
  "language_info": {
   "codemirror_mode": {
    "name": "ipython",
    "version": 3
   },
   "file_extension": ".py",
   "mimetype": "text/x-python",
   "name": "python",
   "nbconvert_exporter": "python",
   "pygments_lexer": "ipython3",
   "version": "3.10.9"
  }
 },
 "nbformat": 4,
 "nbformat_minor": 5
}
