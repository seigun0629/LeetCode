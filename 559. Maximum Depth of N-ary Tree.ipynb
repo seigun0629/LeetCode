{
 "cells": [
  {
   "cell_type": "code",
   "execution_count": null,
   "id": "478ac983",
   "metadata": {},
   "outputs": [],
   "source": [
    "# Definition for a Node.\n",
    "# class Node:\n",
    "#     def __init__(self, val=None, children=None):\n",
    "#         self.val = val\n",
    "#         self.children = children if children is not None else []\n",
    "\n",
    "class Solution:\n",
    "    def maxDepth(self, root: 'Node') -> int:\n",
    "        if not root:\n",
    "            return 0\n",
    "        max_depth = 0\n",
    "        for child in root.children:\n",
    "            max_depth = max(max_depth, self.maxDepth(child))\n",
    "        return max_depth + 1"
   ]
  }
 ],
 "metadata": {
  "kernelspec": {
   "display_name": "Python 3 (ipykernel)",
   "language": "python",
   "name": "python3"
  },
  "language_info": {
   "codemirror_mode": {
    "name": "ipython",
    "version": 3
   },
   "file_extension": ".py",
   "mimetype": "text/x-python",
   "name": "python",
   "nbconvert_exporter": "python",
   "pygments_lexer": "ipython3",
   "version": "3.10.9"
  }
 },
 "nbformat": 4,
 "nbformat_minor": 5
}
