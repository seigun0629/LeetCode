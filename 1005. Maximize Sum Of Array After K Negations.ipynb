{
 "cells": [
  {
   "cell_type": "code",
   "execution_count": null,
   "id": "105aad6f",
   "metadata": {},
   "outputs": [],
   "source": [
    "class Solution:\n",
    "    def largestSumAfterKNegations(self, nums: List[int], k: int) -> int:\n",
    "        nums.sort()\n",
    "        last_negative, last_ind = nums[0], 0\n",
    "        for x, item in enumerate(nums):\n",
    "            if k <= 0 or item == 0: break\n",
    "            if item < 0:\n",
    "                last_negative = -item\n",
    "                last_ind = x\n",
    "                nums[x] = -1 * item\n",
    "                k -= 1\n",
    "            elif item > 0:\n",
    "                if k % 2 == 0: break\n",
    "                else:\n",
    "                    if item > last_negative:\n",
    "                        nums[last_ind] = -1* last_negative\n",
    "                        break\n",
    "                    else:\n",
    "                        nums[x] = -item\n",
    "                        break\n",
    "        else:\n",
    "            nums[last_ind] = (-1**k)* last_negative\n",
    "        return sum(nums)\n"
   ]
  }
 ],
 "metadata": {
  "kernelspec": {
   "display_name": "Python 3 (ipykernel)",
   "language": "python",
   "name": "python3"
  },
  "language_info": {
   "codemirror_mode": {
    "name": "ipython",
    "version": 3
   },
   "file_extension": ".py",
   "mimetype": "text/x-python",
   "name": "python",
   "nbconvert_exporter": "python",
   "pygments_lexer": "ipython3",
   "version": "3.10.9"
  }
 },
 "nbformat": 4,
 "nbformat_minor": 5
}
