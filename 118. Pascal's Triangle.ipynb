{
 "cells": [
  {
   "cell_type": "code",
   "execution_count": null,
   "id": "37f060ae",
   "metadata": {},
   "outputs": [],
   "source": [
    "class Solution:\n",
    "    def generate(self, numRows: int) -> List[List[int]]:\n",
    "        if numRows == 0:\n",
    "            return []\n",
    "        if numRows == 1:\n",
    "            return [[1]]\n",
    "        \n",
    "        prevRows = self.generate(numRows - 1)\n",
    "        newRow = [1] * numRows\n",
    "        \n",
    "        for i in range(1, numRows - 1):\n",
    "            newRow[i] = prevRows[-1][i - 1] + prevRows[-1][i]\n",
    "        \n",
    "        prevRows.append(newRow)\n",
    "        return prevRows"
   ]
  }
 ],
 "metadata": {
  "kernelspec": {
   "display_name": "Python 3 (ipykernel)",
   "language": "python",
   "name": "python3"
  },
  "language_info": {
   "codemirror_mode": {
    "name": "ipython",
    "version": 3
   },
   "file_extension": ".py",
   "mimetype": "text/x-python",
   "name": "python",
   "nbconvert_exporter": "python",
   "pygments_lexer": "ipython3",
   "version": "3.10.9"
  }
 },
 "nbformat": 4,
 "nbformat_minor": 5
}
