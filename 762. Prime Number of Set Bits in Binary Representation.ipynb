{
 "cells": [
  {
   "cell_type": "code",
   "execution_count": null,
   "id": "ed175f27",
   "metadata": {},
   "outputs": [],
   "source": [
    "class Solution:\n",
    "    def countPrimeSetBits(self, left: int, right: int) -> int:\n",
    "        count = 0\n",
    "        for i in range(left,right + 1):\n",
    "            a = bin(i)[2:]\n",
    "            t = a.count(\"1\")\n",
    "            l = []\n",
    "            if t==1:\n",
    "                pass\n",
    "            else:\n",
    "                for i in range(2,t):\n",
    "                    if t%i==0:\n",
    "                        break\n",
    "                else:\n",
    "                    count+=1\n",
    "        return count\n",
    "            \n",
    "            \n",
    "\n",
    "\n",
    "\n",
    "\n",
    "        "
   ]
  }
 ],
 "metadata": {
  "kernelspec": {
   "display_name": "Python 3 (ipykernel)",
   "language": "python",
   "name": "python3"
  },
  "language_info": {
   "codemirror_mode": {
    "name": "ipython",
    "version": 3
   },
   "file_extension": ".py",
   "mimetype": "text/x-python",
   "name": "python",
   "nbconvert_exporter": "python",
   "pygments_lexer": "ipython3",
   "version": "3.10.9"
  }
 },
 "nbformat": 4,
 "nbformat_minor": 5
}
