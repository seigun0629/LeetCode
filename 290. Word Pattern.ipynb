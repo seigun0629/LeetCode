{
 "cells": [
  {
   "cell_type": "code",
   "execution_count": null,
   "id": "9dcbb77d",
   "metadata": {},
   "outputs": [],
   "source": [
    "class Solution:\n",
    "    def wordPattern(self, pattern: str, s: str) -> bool:\n",
    "\n",
    "        l = s.split(\" \")\n",
    "\n",
    "        if len(l)!=len(pattern):\n",
    "            return False\n",
    "\n",
    "        d ={}\n",
    "        se=set()\n",
    "\n",
    "        for i in range(len(pattern)):\n",
    "            if pattern[i] in d:\n",
    "                if d[pattern[i]]!=l[i]:\n",
    "                    return False\n",
    "            else:\n",
    "                if l[i] not in se:\n",
    "                    d[pattern[i]]=l[i]\n",
    "                    se.add(l[i])\n",
    "                else:\n",
    "                    return False\n",
    "        \n",
    "        return True"
   ]
  }
 ],
 "metadata": {
  "kernelspec": {
   "display_name": "Python 3 (ipykernel)",
   "language": "python",
   "name": "python3"
  },
  "language_info": {
   "codemirror_mode": {
    "name": "ipython",
    "version": 3
   },
   "file_extension": ".py",
   "mimetype": "text/x-python",
   "name": "python",
   "nbconvert_exporter": "python",
   "pygments_lexer": "ipython3",
   "version": "3.10.9"
  }
 },
 "nbformat": 4,
 "nbformat_minor": 5
}
