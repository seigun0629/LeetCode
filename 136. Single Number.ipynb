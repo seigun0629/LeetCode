{
 "cells": [
  {
   "cell_type": "code",
   "execution_count": null,
   "id": "bcbb6adc",
   "metadata": {},
   "outputs": [],
   "source": [
    "class Solution:\n",
    "    def singleNumber(self, nums: List[int]) -> int:\n",
    "\n",
    "        # first thought was to use the logic of checking for empty list that saves a lot of time \n",
    "        repeats = 0\n",
    "        # initate a variable with 0 to reuse it for XOR operator !!!! \n",
    "        if nums != []: # check for empty list \n",
    "            for i in nums: # for iter in list \n",
    "                repeats ^= i # repeated num is XORd with i and if both values are same then false is returned !\n",
    "            return repeats\n",
    "            "
   ]
  }
 ],
 "metadata": {
  "kernelspec": {
   "display_name": "Python 3 (ipykernel)",
   "language": "python",
   "name": "python3"
  },
  "language_info": {
   "codemirror_mode": {
    "name": "ipython",
    "version": 3
   },
   "file_extension": ".py",
   "mimetype": "text/x-python",
   "name": "python",
   "nbconvert_exporter": "python",
   "pygments_lexer": "ipython3",
   "version": "3.10.9"
  }
 },
 "nbformat": 4,
 "nbformat_minor": 5
}
