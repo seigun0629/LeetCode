{
 "cells": [
  {
   "cell_type": "code",
   "execution_count": null,
   "id": "d7677384",
   "metadata": {},
   "outputs": [],
   "source": [
    "class TreeNode:\n",
    "    def __init__(self, val=0, left=None, right=None):\n",
    "        self.val = val\n",
    "        self.left = left\n",
    "        self.right = right\n",
    "\n",
    "class Solution:\n",
    "    def isBalanced(self, root: TreeNode) -> bool:\n",
    "        def check_height(node):\n",
    "            if not node:\n",
    "                return 0\n",
    "            \n",
    "            left_height = check_height(node.left)\n",
    "            if left_height == -1:\n",
    "                return -1\n",
    "            \n",
    "            right_height = check_height(node.right)\n",
    "            if right_height == -1:\n",
    "                return -1\n",
    "            \n",
    "            if abs(left_height - right_height) > 1:\n",
    "                return -1\n",
    "            \n",
    "            return max(left_height, right_height) + 1\n",
    "        \n",
    "        return check_height(root) != -1\n"
   ]
  }
 ],
 "metadata": {
  "kernelspec": {
   "display_name": "Python 3 (ipykernel)",
   "language": "python",
   "name": "python3"
  },
  "language_info": {
   "codemirror_mode": {
    "name": "ipython",
    "version": 3
   },
   "file_extension": ".py",
   "mimetype": "text/x-python",
   "name": "python",
   "nbconvert_exporter": "python",
   "pygments_lexer": "ipython3",
   "version": "3.10.9"
  }
 },
 "nbformat": 4,
 "nbformat_minor": 5
}
