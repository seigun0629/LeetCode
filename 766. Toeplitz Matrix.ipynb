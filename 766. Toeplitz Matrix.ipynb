{
 "cells": [
  {
   "cell_type": "code",
   "execution_count": null,
   "id": "b32e70f5",
   "metadata": {},
   "outputs": [],
   "source": [
    "class Solution:\n",
    "    def isToeplitzMatrix(self, matrix: List[List[int]]) -> bool:\n",
    "        row = len(matrix)\n",
    "        col = len(matrix[0])\n",
    "        for i in range(col):\n",
    "            first = matrix[0][i]\n",
    "            j = i \n",
    "            r = 0\n",
    "            while j<col and r<row:\n",
    "                if first != matrix[r][j]:\n",
    "                    return False\n",
    "                j += 1\n",
    "                r += 1\n",
    "        \n",
    "        for i in range(1,row):\n",
    "            first = matrix[i][0]\n",
    "            j = 0 \n",
    "            r = i\n",
    "            while j<col and r<row:\n",
    "                if first != matrix[r][j]:\n",
    "                    return False\n",
    "                j += 1\n",
    "                r += 1\n",
    "        return True"
   ]
  }
 ],
 "metadata": {
  "kernelspec": {
   "display_name": "Python 3 (ipykernel)",
   "language": "python",
   "name": "python3"
  },
  "language_info": {
   "codemirror_mode": {
    "name": "ipython",
    "version": 3
   },
   "file_extension": ".py",
   "mimetype": "text/x-python",
   "name": "python",
   "nbconvert_exporter": "python",
   "pygments_lexer": "ipython3",
   "version": "3.10.9"
  }
 },
 "nbformat": 4,
 "nbformat_minor": 5
}
