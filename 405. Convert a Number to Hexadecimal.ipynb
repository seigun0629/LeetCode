{
 "cells": [
  {
   "cell_type": "code",
   "execution_count": null,
   "id": "9cfe0928",
   "metadata": {},
   "outputs": [],
   "source": [
    "class Solution:\n",
    "    def toHex(self, num: int) -> str:\n",
    "        d = {10:'a',11:'b',12:'c',13:'d',14:'e',15:'f'}\n",
    "        res = \"\"\n",
    "        if num == 0:\n",
    "            return \"0\"\n",
    "        if num<0:\n",
    "            num = (1<<32)+num\n",
    "        while num>0:\n",
    "            if num%16<10:\n",
    "                res+=str(num%16)\n",
    "            else:\n",
    "                res+=str(d[num%16])\n",
    "            num=num//16\n",
    "        return res[::-1]"
   ]
  }
 ],
 "metadata": {
  "kernelspec": {
   "display_name": "Python 3 (ipykernel)",
   "language": "python",
   "name": "python3"
  },
  "language_info": {
   "codemirror_mode": {
    "name": "ipython",
    "version": 3
   },
   "file_extension": ".py",
   "mimetype": "text/x-python",
   "name": "python",
   "nbconvert_exporter": "python",
   "pygments_lexer": "ipython3",
   "version": "3.10.9"
  }
 },
 "nbformat": 4,
 "nbformat_minor": 5
}
