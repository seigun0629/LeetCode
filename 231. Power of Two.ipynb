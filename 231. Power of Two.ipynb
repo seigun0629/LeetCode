{
 "cells": [
  {
   "cell_type": "code",
   "execution_count": null,
   "id": "058052ca",
   "metadata": {},
   "outputs": [],
   "source": [
    "import math \n",
    "class Solution:\n",
    "    def isPowerOfTwo(self, n: int) -> bool:\n",
    "        if n<=0:\n",
    "            return False\n",
    "        return (math.log2(n).is_integer())"
   ]
  }
 ],
 "metadata": {
  "kernelspec": {
   "display_name": "Python 3 (ipykernel)",
   "language": "python",
   "name": "python3"
  },
  "language_info": {
   "codemirror_mode": {
    "name": "ipython",
    "version": 3
   },
   "file_extension": ".py",
   "mimetype": "text/x-python",
   "name": "python",
   "nbconvert_exporter": "python",
   "pygments_lexer": "ipython3",
   "version": "3.10.9"
  }
 },
 "nbformat": 4,
 "nbformat_minor": 5
}
