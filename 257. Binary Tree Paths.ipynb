{
 "cells": [
  {
   "cell_type": "code",
   "execution_count": null,
   "id": "03a8a6cd",
   "metadata": {},
   "outputs": [],
   "source": [
    "class Solution:\n",
    "    def binaryTreePaths(self, root: Optional[TreeNode]) -> List[str]:\n",
    "        res = []\n",
    "        def dfs(node,path):\n",
    "            if not node:\n",
    "                return \n",
    "            \n",
    "            if path:\n",
    "                path += \"->\" + str(node.val)\n",
    "            else:\n",
    "                path = str(node.val)\n",
    "\n",
    "            if not node.left and not node.right:\n",
    "                res.append(path)\n",
    "                return \n",
    "            dfs(node.right,path)\n",
    "            dfs(node.left,path)\n",
    "        \n",
    "        dfs(root,\"\")\n",
    "        return res"
   ]
  }
 ],
 "metadata": {
  "kernelspec": {
   "display_name": "Python 3 (ipykernel)",
   "language": "python",
   "name": "python3"
  },
  "language_info": {
   "codemirror_mode": {
    "name": "ipython",
    "version": 3
   },
   "file_extension": ".py",
   "mimetype": "text/x-python",
   "name": "python",
   "nbconvert_exporter": "python",
   "pygments_lexer": "ipython3",
   "version": "3.10.9"
  }
 },
 "nbformat": 4,
 "nbformat_minor": 5
}
