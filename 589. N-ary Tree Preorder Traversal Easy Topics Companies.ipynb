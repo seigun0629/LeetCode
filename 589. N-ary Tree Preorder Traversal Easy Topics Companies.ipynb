{
 "cells": [
  {
   "cell_type": "code",
   "execution_count": null,
   "id": "fc7a2f3b",
   "metadata": {},
   "outputs": [],
   "source": [
    "class Solution:\n",
    "    def preorder(self, root: 'Node') -> List[int]:\n",
    "        ans = []\n",
    "        def helper(curr=root):\n",
    "            nonlocal ans\n",
    "            if curr:\n",
    "                ans.append(curr.val)\n",
    "                for i in curr.children:\n",
    "                    helper(i)\n",
    "        helper()\n",
    "        return ans"
   ]
  }
 ],
 "metadata": {
  "kernelspec": {
   "display_name": "Python 3 (ipykernel)",
   "language": "python",
   "name": "python3"
  },
  "language_info": {
   "codemirror_mode": {
    "name": "ipython",
    "version": 3
   },
   "file_extension": ".py",
   "mimetype": "text/x-python",
   "name": "python",
   "nbconvert_exporter": "python",
   "pygments_lexer": "ipython3",
   "version": "3.10.9"
  }
 },
 "nbformat": 4,
 "nbformat_minor": 5
}
