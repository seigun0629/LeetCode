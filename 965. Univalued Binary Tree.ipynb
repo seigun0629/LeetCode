{
 "cells": [
  {
   "cell_type": "code",
   "execution_count": null,
   "id": "bdcfcce8",
   "metadata": {},
   "outputs": [],
   "source": [
    "class Solution:\n",
    "    def isUnivalTree(self, root: Optional[TreeNode]) -> bool:\n",
    "        def unique(root,x):\n",
    "            if not root:\n",
    "                return True\n",
    "            if root.val!=x:\n",
    "                return False\n",
    "            return unique(root.left,x) and unique(root.right,x)\n",
    "        return unique(root,root.val)"
   ]
  }
 ],
 "metadata": {
  "kernelspec": {
   "display_name": "Python 3 (ipykernel)",
   "language": "python",
   "name": "python3"
  },
  "language_info": {
   "codemirror_mode": {
    "name": "ipython",
    "version": 3
   },
   "file_extension": ".py",
   "mimetype": "text/x-python",
   "name": "python",
   "nbconvert_exporter": "python",
   "pygments_lexer": "ipython3",
   "version": "3.10.9"
  }
 },
 "nbformat": 4,
 "nbformat_minor": 5
}
