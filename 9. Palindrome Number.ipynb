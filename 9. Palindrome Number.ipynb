{
 "cells": [
  {
   "cell_type": "code",
   "execution_count": null,
   "id": "0df4c55c",
   "metadata": {},
   "outputs": [],
   "source": [
    "\n",
    "\n",
    "class Solution:\n",
    "    def isPalindrome(self, x: int) -> bool:\n",
    "        if x < 0 or (x != 0 and x % 10 == 0):\n",
    "            return False\n",
    "\n",
    "        rev_num = 0\n",
    "        origin = x\n",
    "\n",
    "        while x > rev_num:\n",
    "            rev_num = rev_num * 10 + x % 10\n",
    "            x //= 10\n",
    "\n",
    "        return x == reve_num or x == rev_num // 10"
   ]
  }
 ],
 "metadata": {
  "kernelspec": {
   "display_name": "Python 3 (ipykernel)",
   "language": "python",
   "name": "python3"
  },
  "language_info": {
   "codemirror_mode": {
    "name": "ipython",
    "version": 3
   },
   "file_extension": ".py",
   "mimetype": "text/x-python",
   "name": "python",
   "nbconvert_exporter": "python",
   "pygments_lexer": "ipython3",
   "version": "3.10.9"
  }
 },
 "nbformat": 4,
 "nbformat_minor": 5
}
