{
 "cells": [
  {
   "cell_type": "code",
   "execution_count": null,
   "id": "c031bd1b",
   "metadata": {},
   "outputs": [],
   "source": [
    "class Solution:\n",
    "    def hasGroupsSizeX(self, deck: List[int]) -> bool:\n",
    "        a=Counter(deck)\n",
    "        w=list(set(a.values()))\n",
    "        div=0\n",
    "        if len(w)==1:\n",
    "            div=w[0]\n",
    "        else:\n",
    "            div=math.gcd(w[0],w[1])\n",
    "           \n",
    "            for i in range(1,len(w)-1):\n",
    "                div=math.gcd(div,w[i+1])\n",
    "        return div>1"
   ]
  }
 ],
 "metadata": {
  "kernelspec": {
   "display_name": "Python 3 (ipykernel)",
   "language": "python",
   "name": "python3"
  },
  "language_info": {
   "codemirror_mode": {
    "name": "ipython",
    "version": 3
   },
   "file_extension": ".py",
   "mimetype": "text/x-python",
   "name": "python",
   "nbconvert_exporter": "python",
   "pygments_lexer": "ipython3",
   "version": "3.10.9"
  }
 },
 "nbformat": 4,
 "nbformat_minor": 5
}
