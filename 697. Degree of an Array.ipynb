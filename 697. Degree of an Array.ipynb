{
 "cells": [
  {
   "cell_type": "code",
   "execution_count": null,
   "id": "84c42118",
   "metadata": {},
   "outputs": [],
   "source": [
    "class Solution:\n",
    "    def findShortestSubArray(self, nums: List[int]) -> int:\n",
    "        test = Counter(nums)\n",
    "\n",
    "        max_freq = max(test.values())\n",
    "        if max_freq == 1:\n",
    "            return 1\n",
    "        numb=[]\n",
    "\n",
    "        for key, value in test.items():\n",
    "            if max_freq == value:\n",
    "                numb.append(key)\n",
    "\n",
    "        #now lets find the biggest freq:\n",
    "        for i in range(len(numb)):\n",
    "            target = numb[i]\n",
    "            start = 0\n",
    "            end = 0\n",
    "\n",
    "            #start loop\n",
    "            for j in range(len(nums)):\n",
    "                if nums[j] == target:\n",
    "                    start = j\n",
    "                    break\n",
    "\n",
    "            #end loop\n",
    "            for j in range(len(nums)-1,-1,-1):\n",
    "                if nums[j] == target:\n",
    "                    end = j\n",
    "                    break\n",
    "\n",
    "            numb[i] = (end-start)+1\n",
    "\n",
    "        return min(numb)\n",
    "\n",
    "\n",
    "\n",
    "        "
   ]
  }
 ],
 "metadata": {
  "kernelspec": {
   "display_name": "Python 3 (ipykernel)",
   "language": "python",
   "name": "python3"
  },
  "language_info": {
   "codemirror_mode": {
    "name": "ipython",
    "version": 3
   },
   "file_extension": ".py",
   "mimetype": "text/x-python",
   "name": "python",
   "nbconvert_exporter": "python",
   "pygments_lexer": "ipython3",
   "version": "3.10.9"
  }
 },
 "nbformat": 4,
 "nbformat_minor": 5
}
