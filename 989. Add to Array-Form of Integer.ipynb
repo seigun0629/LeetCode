{
 "cells": [
  {
   "cell_type": "code",
   "execution_count": null,
   "id": "bc6f13b2",
   "metadata": {},
   "outputs": [],
   "source": [
    "class Solution:\n",
    "    def addToArrayForm(self, num: List[int], k: int) -> List[int]:\n",
    "        if not num:\n",
    "            return [int(d) for d in str(k)]\n",
    "        carry = 0\n",
    "        res = []\n",
    "        for i in range(len(num)-1, -1, -1):\n",
    "            total = num[i] + carry + (k % 10)\n",
    "            carry = total // 10\n",
    "            res.append(total % 10)\n",
    "            k //= 10\n",
    "        while k > 0:\n",
    "            total = carry + (k % 10)\n",
    "            carry = total // 10\n",
    "            res.append(total % 10)\n",
    "            k //= 10\n",
    "        if carry > 0:\n",
    "            res.append(carry)\n",
    "        return res[::-1]"
   ]
  }
 ],
 "metadata": {
  "kernelspec": {
   "display_name": "Python 3 (ipykernel)",
   "language": "python",
   "name": "python3"
  },
  "language_info": {
   "codemirror_mode": {
    "name": "ipython",
    "version": 3
   },
   "file_extension": ".py",
   "mimetype": "text/x-python",
   "name": "python",
   "nbconvert_exporter": "python",
   "pygments_lexer": "ipython3",
   "version": "3.10.9"
  }
 },
 "nbformat": 4,
 "nbformat_minor": 5
}
