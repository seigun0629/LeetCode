{
 "cells": [
  {
   "cell_type": "code",
   "execution_count": null,
   "id": "7eca12b4",
   "metadata": {},
   "outputs": [],
   "source": [
    "class Solution:\n",
    "    def countBinarySubstrings(self, s: str) -> int:\n",
    "        last = s[0]\n",
    "        curcount = 1\n",
    "        prevcount = 0\n",
    "\n",
    "        ret = 0\n",
    "        for i in s[1:]:\n",
    "            if i == last:\n",
    "                curcount += 1\n",
    "            else:\n",
    "                ret += min(curcount, prevcount)\n",
    "                prevcount = curcount\n",
    "                curcount = 1\n",
    "                last = i\n",
    "\n",
    "        ret += min(curcount, prevcount)\n",
    "\n",
    "        return ret"
   ]
  }
 ],
 "metadata": {
  "kernelspec": {
   "display_name": "Python 3 (ipykernel)",
   "language": "python",
   "name": "python3"
  },
  "language_info": {
   "codemirror_mode": {
    "name": "ipython",
    "version": 3
   },
   "file_extension": ".py",
   "mimetype": "text/x-python",
   "name": "python",
   "nbconvert_exporter": "python",
   "pygments_lexer": "ipython3",
   "version": "3.10.9"
  }
 },
 "nbformat": 4,
 "nbformat_minor": 5
}
