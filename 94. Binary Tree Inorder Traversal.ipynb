{
 "cells": [
  {
   "cell_type": "code",
   "execution_count": null,
   "id": "1d0e07ef",
   "metadata": {},
   "outputs": [],
   "source": [
    "class Solution:\n",
    "    def inorderTraversal(self, root: Optional[TreeNode]) -> List[int]:\n",
    "        st = []\n",
    "        res = []\n",
    "\n",
    "        while root or st:\n",
    "            while root:\n",
    "                st.append(root)\n",
    "                root = root.left\n",
    "            \n",
    "            root = st.pop()\n",
    "            res.append(root.val)\n",
    "\n",
    "            root = root.right\n",
    "        \n",
    "        return res   "
   ]
  },
  {
   "cell_type": "code",
   "execution_count": null,
   "id": "080fa7ea",
   "metadata": {},
   "outputs": [],
   "source": []
  }
 ],
 "metadata": {
  "kernelspec": {
   "display_name": "Python 3 (ipykernel)",
   "language": "python",
   "name": "python3"
  },
  "language_info": {
   "codemirror_mode": {
    "name": "ipython",
    "version": 3
   },
   "file_extension": ".py",
   "mimetype": "text/x-python",
   "name": "python",
   "nbconvert_exporter": "python",
   "pygments_lexer": "ipython3",
   "version": "3.10.9"
  }
 },
 "nbformat": 4,
 "nbformat_minor": 5
}
