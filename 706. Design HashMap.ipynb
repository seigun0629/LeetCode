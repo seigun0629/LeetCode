{
 "cells": [
  {
   "cell_type": "code",
   "execution_count": null,
   "id": "cfb87851",
   "metadata": {},
   "outputs": [],
   "source": [
    "class MyHashMap:\n",
    "    def __init__(self):\n",
    "        self.keys = []\n",
    "        self.values = []\n",
    "\n",
    "    def put(self, key: int, value: int) -> None:\n",
    "        try:\n",
    "            pos = self.keys.index(key)\n",
    "            self.values[pos] = value\n",
    "        except ValueError:\n",
    "            self.keys.append(key)\n",
    "            self.values.append(value)\n",
    "\n",
    "    def get(self, key: int) -> int:\n",
    "        try:\n",
    "            pos = self.keys.index(key)\n",
    "            return self.values[pos]\n",
    "        except ValueError:\n",
    "            return -1\n",
    "\n",
    "    def remove(self, key: int) -> None:\n",
    "        if key in self.keys:\n",
    "            pos = self.keys.index(key)\n",
    "            self.keys[pos] = None"
   ]
  }
 ],
 "metadata": {
  "kernelspec": {
   "display_name": "Python 3 (ipykernel)",
   "language": "python",
   "name": "python3"
  },
  "language_info": {
   "codemirror_mode": {
    "name": "ipython",
    "version": 3
   },
   "file_extension": ".py",
   "mimetype": "text/x-python",
   "name": "python",
   "nbconvert_exporter": "python",
   "pygments_lexer": "ipython3",
   "version": "3.10.9"
  }
 },
 "nbformat": 4,
 "nbformat_minor": 5
}
