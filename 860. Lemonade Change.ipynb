{
 "cells": [
  {
   "cell_type": "code",
   "execution_count": null,
   "id": "d7aef6c4",
   "metadata": {},
   "outputs": [],
   "source": [
    "class Solution:\n",
    "    def lemonadeChange(self, bills: List[int]) -> bool:\n",
    "        five = ten = 0\n",
    "        for bill in bills:\n",
    "            if bill == 5:\n",
    "                five += 1\n",
    "            elif bill == 10:\n",
    "                if not five: return False\n",
    "                five -= 1\n",
    "                ten += 1\n",
    "            else:\n",
    "                if ten and five:\n",
    "                    ten -= 1\n",
    "                    five -= 1\n",
    "                elif five >= 3:\n",
    "                    five -= 3\n",
    "                else:\n",
    "                    return False\n",
    "        return True"
   ]
  }
 ],
 "metadata": {
  "kernelspec": {
   "display_name": "Python 3 (ipykernel)",
   "language": "python",
   "name": "python3"
  },
  "language_info": {
   "codemirror_mode": {
    "name": "ipython",
    "version": 3
   },
   "file_extension": ".py",
   "mimetype": "text/x-python",
   "name": "python",
   "nbconvert_exporter": "python",
   "pygments_lexer": "ipython3",
   "version": "3.10.9"
  }
 },
 "nbformat": 4,
 "nbformat_minor": 5
}
