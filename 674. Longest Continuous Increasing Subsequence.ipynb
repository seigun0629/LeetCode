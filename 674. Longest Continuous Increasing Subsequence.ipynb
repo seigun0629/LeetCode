{
 "cells": [
  {
   "cell_type": "code",
   "execution_count": null,
   "id": "ef9f938c",
   "metadata": {},
   "outputs": [],
   "source": [
    "class Solution:\n",
    "    def findLengthOfLCIS(self, nums: List[int]) -> int:\n",
    "        res = 1\n",
    "        temp = 1\n",
    "        prev = nums[0]\n",
    "        for num in nums:\n",
    "            if num > prev:\n",
    "                temp += 1\n",
    "            else:\n",
    "                if temp > res:\n",
    "                    res = temp\n",
    "                temp = 1\n",
    "            prev = num\n",
    "        return max(res, temp)"
   ]
  }
 ],
 "metadata": {
  "kernelspec": {
   "display_name": "Python 3 (ipykernel)",
   "language": "python",
   "name": "python3"
  },
  "language_info": {
   "codemirror_mode": {
    "name": "ipython",
    "version": 3
   },
   "file_extension": ".py",
   "mimetype": "text/x-python",
   "name": "python",
   "nbconvert_exporter": "python",
   "pygments_lexer": "ipython3",
   "version": "3.10.9"
  }
 },
 "nbformat": 4,
 "nbformat_minor": 5
}
