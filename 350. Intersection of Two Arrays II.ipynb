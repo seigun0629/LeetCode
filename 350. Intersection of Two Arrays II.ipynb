{
 "cells": [
  {
   "cell_type": "code",
   "execution_count": null,
   "id": "57391e53",
   "metadata": {},
   "outputs": [],
   "source": [
    "class Solution:\n",
    "    def intersect(self, nums1: List[int], nums2: List[int]) -> List[int]:\n",
    "        # Create a hashtable\n",
    "        table = {}\n",
    "        for number in nums1:\n",
    "            table[number] = table.get(number, 0) + 1\n",
    "        # Instantiate an empty list for result\n",
    "        res = []\n",
    "        for num in nums2:\n",
    "            if num in table:\n",
    "                if table[num] > 0:\n",
    "                    res.append(num)\n",
    "                    table[num] = table[num] - 1\n",
    "        return res"
   ]
  }
 ],
 "metadata": {
  "kernelspec": {
   "display_name": "Python 3 (ipykernel)",
   "language": "python",
   "name": "python3"
  },
  "language_info": {
   "codemirror_mode": {
    "name": "ipython",
    "version": 3
   },
   "file_extension": ".py",
   "mimetype": "text/x-python",
   "name": "python",
   "nbconvert_exporter": "python",
   "pygments_lexer": "ipython3",
   "version": "3.10.9"
  }
 },
 "nbformat": 4,
 "nbformat_minor": 5
}
