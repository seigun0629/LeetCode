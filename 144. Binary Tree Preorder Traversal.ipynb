{
 "cells": [
  {
   "cell_type": "code",
   "execution_count": null,
   "id": "eaaf88e1",
   "metadata": {},
   "outputs": [],
   "source": [
    "class Solution:\n",
    "    def preorderTraversal(self, root: Optional[TreeNode]) -> List[int]:\n",
    "        if not root: return\n",
    "        vals, l = [], [root]\n",
    "        while l:\n",
    "            ## BFS (not a solution, ignore the code)\n",
    "            # l2 = []\n",
    "            # for n in l:\n",
    "            #     vals.append(n.val)\n",
    "            #     if n.left: l2.append(n.left)\n",
    "            #     if n.right: l2.append(n.right)\n",
    "            # l = l2.copy()\n",
    "            ## DFS: left to right\n",
    "            n = l.pop(0)\n",
    "            vals.append(n.val)\n",
    "            if n.right: l = [n.right] + l    \n",
    "            if n.left: l = [n.left] + l        \n",
    "        return vals"
   ]
  }
 ],
 "metadata": {
  "kernelspec": {
   "display_name": "Python 3 (ipykernel)",
   "language": "python",
   "name": "python3"
  },
  "language_info": {
   "codemirror_mode": {
    "name": "ipython",
    "version": 3
   },
   "file_extension": ".py",
   "mimetype": "text/x-python",
   "name": "python",
   "nbconvert_exporter": "python",
   "pygments_lexer": "ipython3",
   "version": "3.10.9"
  }
 },
 "nbformat": 4,
 "nbformat_minor": 5
}
