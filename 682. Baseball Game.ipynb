{
 "cells": [
  {
   "cell_type": "code",
   "execution_count": null,
   "id": "3d4a5f7c",
   "metadata": {},
   "outputs": [],
   "source": [
    "class Solution:\n",
    "    def calPoints(self, o: List[str]) -> int:\n",
    "        i = 0\n",
    "        l = []\n",
    "        p = []\n",
    "        while i<len(o):\n",
    "            if o[i]!= \"C\" and o[i]!= \"D\" and o[i]!= \"+\":\n",
    "                l.append(int(o[i]))\n",
    "                # print(l)\n",
    "            elif o[i]==\"C\":\n",
    "                l.remove(l[-1])\n",
    "                # print(l)\n",
    "            elif o[i] == \"D\":\n",
    "                l.append(l[-1]*2)\n",
    "                # print(l)\n",
    "            elif o[i] == \"+\":\n",
    "                l.append(l[-1] + l[-2])\n",
    "                # print(l)\n",
    "            i+=1\n",
    "        return (sum(l))"
   ]
  }
 ],
 "metadata": {
  "kernelspec": {
   "display_name": "Python 3 (ipykernel)",
   "language": "python",
   "name": "python3"
  },
  "language_info": {
   "codemirror_mode": {
    "name": "ipython",
    "version": 3
   },
   "file_extension": ".py",
   "mimetype": "text/x-python",
   "name": "python",
   "nbconvert_exporter": "python",
   "pygments_lexer": "ipython3",
   "version": "3.10.9"
  }
 },
 "nbformat": 4,
 "nbformat_minor": 5
}
