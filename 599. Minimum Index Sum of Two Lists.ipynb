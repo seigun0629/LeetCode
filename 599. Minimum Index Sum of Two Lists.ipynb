{
 "cells": [
  {
   "cell_type": "code",
   "execution_count": null,
   "id": "5736db83",
   "metadata": {},
   "outputs": [],
   "source": [
    "class Solution:\n",
    "    def findRestaurant(self, list1: List[str], list2: List[str]) -> List[str]:\n",
    "        d2={}\n",
    "        l=[]\n",
    "        for i in range(len(list2)):\n",
    "            d2[list2[i]]=i\n",
    "        for i in range(len(list1)):\n",
    "            if list1[i] in d2:\n",
    "                l.append([i+d2[list1[i]],list1[i]])\n",
    "        l1=[]\n",
    "        l.sort()\n",
    "        l1.append(l[0][1])\n",
    "        for i in range(1,len(l)):\n",
    "            if l[i][0]==l[i-1][0]:\n",
    "                l1.append(l[i][1])\n",
    "            else:\n",
    "                break\n",
    "        return l1\n",
    "        "
   ]
  }
 ],
 "metadata": {
  "kernelspec": {
   "display_name": "Python 3 (ipykernel)",
   "language": "python",
   "name": "python3"
  },
  "language_info": {
   "codemirror_mode": {
    "name": "ipython",
    "version": 3
   },
   "file_extension": ".py",
   "mimetype": "text/x-python",
   "name": "python",
   "nbconvert_exporter": "python",
   "pygments_lexer": "ipython3",
   "version": "3.10.9"
  }
 },
 "nbformat": 4,
 "nbformat_minor": 5
}
