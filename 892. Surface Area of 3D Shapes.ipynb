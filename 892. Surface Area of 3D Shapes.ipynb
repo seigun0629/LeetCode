{
 "cells": [
  {
   "cell_type": "code",
   "execution_count": null,
   "id": "ccca119c",
   "metadata": {},
   "outputs": [],
   "source": [
    "class Solution:\n",
    "    def surfaceArea(self, grid: List[List[int]]) -> int:\n",
    "        area = 2 * (len(grid) * len(grid[0])) # top and bottom\n",
    "        for row in grid:\n",
    "            for cell in row:\n",
    "                if cell == 0:\n",
    "                    area -= 2 # remove zeros\n",
    "        for cell in grid[0]:\n",
    "            area += cell # upper part\n",
    "        for cell in grid[-1]:\n",
    "            area += cell # lower part\n",
    "        for row in grid:\n",
    "            area += row[0] # left part\n",
    "        for row in grid:\n",
    "            area += row[-1] # right part\n",
    "        for i in range(len(grid)):\n",
    "            for j in range(len(grid[0])):\n",
    "                if i < len(grid) - 1:\n",
    "                    area += abs(grid[i][j] - grid[i+1][j])\n",
    "                if j < len(grid[0]) - 1:\n",
    "                    area += abs(grid[i][j] - grid[i][j+1])\n",
    "        return area"
   ]
  }
 ],
 "metadata": {
  "kernelspec": {
   "display_name": "Python 3 (ipykernel)",
   "language": "python",
   "name": "python3"
  },
  "language_info": {
   "codemirror_mode": {
    "name": "ipython",
    "version": 3
   },
   "file_extension": ".py",
   "mimetype": "text/x-python",
   "name": "python",
   "nbconvert_exporter": "python",
   "pygments_lexer": "ipython3",
   "version": "3.10.9"
  }
 },
 "nbformat": 4,
 "nbformat_minor": 5
}
