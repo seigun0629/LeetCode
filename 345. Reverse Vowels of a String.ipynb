{
 "cells": [
  {
   "cell_type": "code",
   "execution_count": null,
   "id": "1c262a2e",
   "metadata": {},
   "outputs": [],
   "source": [
    "class Solution:\n",
    "    def reverseVowels(self, s: str) -> str:\n",
    "        vowels = {'a', 'e', 'i', 'o', 'u', 'A', 'E', 'I', 'O', 'U'}\n",
    "        li1 = []\n",
    "        li2 = []\n",
    "        for i in range(len(s)):\n",
    "            if s[i] in vowels:\n",
    "                li1.append(s[i])\n",
    "                li2.append(i)\n",
    "        for j in range(len(li2)):\n",
    "            s = s[:li2[j]] + li1[-j-1] + s[li2[j]+1:]\n",
    "        return s\n"
   ]
  }
 ],
 "metadata": {
  "kernelspec": {
   "display_name": "Python 3 (ipykernel)",
   "language": "python",
   "name": "python3"
  },
  "language_info": {
   "codemirror_mode": {
    "name": "ipython",
    "version": 3
   },
   "file_extension": ".py",
   "mimetype": "text/x-python",
   "name": "python",
   "nbconvert_exporter": "python",
   "pygments_lexer": "ipython3",
   "version": "3.10.9"
  }
 },
 "nbformat": 4,
 "nbformat_minor": 5
}
