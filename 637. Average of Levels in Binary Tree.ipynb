{
 "cells": [
  {
   "cell_type": "code",
   "execution_count": null,
   "id": "5fb2c628",
   "metadata": {},
   "outputs": [],
   "source": [
    "# Definition for a binary tree node.\n",
    "# class TreeNode:\n",
    "#     def __init__(self, val=0, left=None, right=None):\n",
    "#         self.val = val\n",
    "#         self.left = left\n",
    "#         self.right = right\n",
    "class Solution:\n",
    "    def averageOfLevels(self, root: Optional[TreeNode]) -> List[float]:\n",
    "        \n",
    "        levels = {}\n",
    "\n",
    "        def levelOrder(node, level):\n",
    "            if not node:\n",
    "                return\n",
    "            \n",
    "            if level in levels:\n",
    "                levels[level][0] += node.val\n",
    "                levels[level][1] += 1\n",
    "            else:\n",
    "                levels[level] = [node.val, 1]\n",
    "\n",
    "            level += 1\n",
    "            levelOrder(node.left, level)\n",
    "            levelOrder(node.right, level)\n",
    "\n",
    "        \n",
    "        levelOrder(root, 0)\n",
    "\n",
    "        res = []\n",
    "        for v in levels.values():\n",
    "            res.append(v[0]/v[1])\n",
    "        \n",
    "        return res"
   ]
  }
 ],
 "metadata": {
  "kernelspec": {
   "display_name": "Python 3 (ipykernel)",
   "language": "python",
   "name": "python3"
  },
  "language_info": {
   "codemirror_mode": {
    "name": "ipython",
    "version": 3
   },
   "file_extension": ".py",
   "mimetype": "text/x-python",
   "name": "python",
   "nbconvert_exporter": "python",
   "pygments_lexer": "ipython3",
   "version": "3.10.9"
  }
 },
 "nbformat": 4,
 "nbformat_minor": 5
}
