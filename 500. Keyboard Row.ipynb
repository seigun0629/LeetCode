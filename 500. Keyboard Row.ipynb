{
 "cells": [
  {
   "cell_type": "code",
   "execution_count": null,
   "id": "217f5ee7",
   "metadata": {},
   "outputs": [],
   "source": [
    "class Solution:\n",
    "    def findWords(self, words: List[str]) -> List[str]:\n",
    "        l1=\"qwertyuiop\"\n",
    "        l2=\"asdfghjkl\"\n",
    "        l3=\"zxcvbnm\"\n",
    "        res=[]\n",
    "        for word in words:\n",
    "            w=word.lower()\n",
    "            if len(set(l1+w))==len(l1) or len(set(l2+w))==len(l2) or len(set(l3+w))==len(l3) :\n",
    "                res.append(word)\n",
    "        return res"
   ]
  }
 ],
 "metadata": {
  "kernelspec": {
   "display_name": "Python 3 (ipykernel)",
   "language": "python",
   "name": "python3"
  },
  "language_info": {
   "codemirror_mode": {
    "name": "ipython",
    "version": 3
   },
   "file_extension": ".py",
   "mimetype": "text/x-python",
   "name": "python",
   "nbconvert_exporter": "python",
   "pygments_lexer": "ipython3",
   "version": "3.10.9"
  }
 },
 "nbformat": 4,
 "nbformat_minor": 5
}
