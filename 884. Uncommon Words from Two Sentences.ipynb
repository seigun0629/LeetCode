{
 "cells": [
  {
   "cell_type": "code",
   "execution_count": null,
   "id": "55633ccf",
   "metadata": {},
   "outputs": [],
   "source": [
    "class Solution:\n",
    "    def uncommonFromSentences(self, s1: str, s2: str) -> List[str]:\n",
    "        s1_list=s1.split()\n",
    "        s2_list=s2.split()\n",
    "        count=0\n",
    "        op=[]\n",
    "\n",
    "        for i in s1_list:\n",
    "            if i not in s2_list and s1_list.count(i)==1:\n",
    "                op.append(i)\n",
    "        for i in s2_list:\n",
    "            if i not in s1_list and s2_list.count(i)==1:\n",
    "                op.append(i)\n",
    "        return op\n",
    "\n",
    "        \n",
    "        "
   ]
  }
 ],
 "metadata": {
  "kernelspec": {
   "display_name": "Python 3 (ipykernel)",
   "language": "python",
   "name": "python3"
  },
  "language_info": {
   "codemirror_mode": {
    "name": "ipython",
    "version": 3
   },
   "file_extension": ".py",
   "mimetype": "text/x-python",
   "name": "python",
   "nbconvert_exporter": "python",
   "pygments_lexer": "ipython3",
   "version": "3.10.9"
  }
 },
 "nbformat": 4,
 "nbformat_minor": 5
}
