{
 "cells": [
  {
   "cell_type": "code",
   "execution_count": null,
   "id": "5d4f59ef",
   "metadata": {},
   "outputs": [],
   "source": [
    "class Solution:\n",
    "    def minDeletionSize(self, strs: List[str]) -> int:\n",
    "        c=0\n",
    "        for col in range(len(strs[0])):\n",
    "            for row in range(len(strs)-1):\n",
    "                if ord(strs[row][col])>ord(strs[row+1][col]):\n",
    "                    print(strs[row][col],strs[row+1][col])\n",
    "                    c+=1\n",
    "                    break\n",
    "        return c"
   ]
  }
 ],
 "metadata": {
  "kernelspec": {
   "display_name": "Python 3 (ipykernel)",
   "language": "python",
   "name": "python3"
  },
  "language_info": {
   "codemirror_mode": {
    "name": "ipython",
    "version": 3
   },
   "file_extension": ".py",
   "mimetype": "text/x-python",
   "name": "python",
   "nbconvert_exporter": "python",
   "pygments_lexer": "ipython3",
   "version": "3.10.9"
  }
 },
 "nbformat": 4,
 "nbformat_minor": 5
}
