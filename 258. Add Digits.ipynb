{
 "cells": [
  {
   "cell_type": "code",
   "execution_count": null,
   "id": "46c03f61",
   "metadata": {},
   "outputs": [],
   "source": [
    "class Solution:\n",
    "    def addDigits(self, n: int) -> int:\n",
    "        sum = 0\n",
    "        while n:\n",
    "            sum += int(n % 10)\n",
    "            n = int(n / 10)\n",
    "            if n == 0 and sum < 10:\n",
    "                return sum\n",
    "            elif n == 0 and sum >= 10:\n",
    "                n = sum\n",
    "                sum = 0\n",
    "        return 0"
   ]
  }
 ],
 "metadata": {
  "kernelspec": {
   "display_name": "Python 3 (ipykernel)",
   "language": "python",
   "name": "python3"
  },
  "language_info": {
   "codemirror_mode": {
    "name": "ipython",
    "version": 3
   },
   "file_extension": ".py",
   "mimetype": "text/x-python",
   "name": "python",
   "nbconvert_exporter": "python",
   "pygments_lexer": "ipython3",
   "version": "3.10.9"
  }
 },
 "nbformat": 4,
 "nbformat_minor": 5
}
