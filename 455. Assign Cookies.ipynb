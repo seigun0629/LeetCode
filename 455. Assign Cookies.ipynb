{
 "cells": [
  {
   "cell_type": "code",
   "execution_count": null,
   "id": "80441648",
   "metadata": {},
   "outputs": [],
   "source": [
    "class Solution:\n",
    "    def findContentChildren(self, g: List[int], s: List[int]) -> int:\n",
    "        content = 0\n",
    "        if len(s) == 0 :\n",
    "            return content\n",
    "        g.sort()\n",
    "        s.sort()\n",
    "        i = 0\n",
    "        j = 0\n",
    "        \n",
    "        while j < len(s) and i < len(g):\n",
    "            if s[j] >= g[i]:\n",
    "                content += 1\n",
    "                i += 1\n",
    "                j += 1\n",
    "            else:      \n",
    "                j += 1              \n",
    "        return content"
   ]
  }
 ],
 "metadata": {
  "kernelspec": {
   "display_name": "Python 3 (ipykernel)",
   "language": "python",
   "name": "python3"
  },
  "language_info": {
   "codemirror_mode": {
    "name": "ipython",
    "version": 3
   },
   "file_extension": ".py",
   "mimetype": "text/x-python",
   "name": "python",
   "nbconvert_exporter": "python",
   "pygments_lexer": "ipython3",
   "version": "3.10.9"
  }
 },
 "nbformat": 4,
 "nbformat_minor": 5
}
