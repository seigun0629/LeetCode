{
 "cells": [
  {
   "cell_type": "code",
   "execution_count": null,
   "id": "f159aeeb",
   "metadata": {},
   "outputs": [],
   "source": [
    "class Solution:\n",
    "    def reverseOnlyLetters(self, s: str) -> str:\n",
    "        alpha = []\n",
    "        for i in s:\n",
    "            if i.isalpha():\n",
    "                alpha.append(i)\n",
    "        alpha = alpha[::-1]\n",
    "        ans = ''\n",
    "        k = 0\n",
    "        for i in s:\n",
    "            if i.isalpha():\n",
    "                ans += alpha[k]\n",
    "                k += 1\n",
    "            else:\n",
    "                ans += i\n",
    "        return ans        \n",
    "        "
   ]
  }
 ],
 "metadata": {
  "kernelspec": {
   "display_name": "Python 3 (ipykernel)",
   "language": "python",
   "name": "python3"
  },
  "language_info": {
   "codemirror_mode": {
    "name": "ipython",
    "version": 3
   },
   "file_extension": ".py",
   "mimetype": "text/x-python",
   "name": "python",
   "nbconvert_exporter": "python",
   "pygments_lexer": "ipython3",
   "version": "3.10.9"
  }
 },
 "nbformat": 4,
 "nbformat_minor": 5
}
